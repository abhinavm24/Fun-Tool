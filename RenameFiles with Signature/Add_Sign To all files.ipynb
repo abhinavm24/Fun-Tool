{
 "cells": [
  {
   "cell_type": "markdown",
   "metadata": {},
   "source": [
    "## Add Sign to all files"
   ]
  },
  {
   "cell_type": "code",
   "execution_count": 1,
   "metadata": {
    "collapsed": true
   },
   "outputs": [],
   "source": [
    "import os\n",
    "import sys\n",
    "import shutil"
   ]
  },
  {
   "cell_type": "code",
   "execution_count": 2,
   "metadata": {
    "collapsed": true
   },
   "outputs": [],
   "source": [
    "def rename_all_files(CWD,sign):\n",
    "    #CWD -current working dir\n",
    "    #rename all files\n",
    "    #if dir then go in & rename all sub-files\n",
    "    files=list(os.listdir(CWD))\n",
    "    os.chdir(CWD)\n",
    "    #start renaming recursively\n",
    "    for fle in files:\n",
    "        if not os.path.isdir(fle):\n",
    "            if fle.find(sign) == -1:\n",
    "                ls=fle.split(\".\")\n",
    "                new_name=\".\".join(ls[:-1])+\"- \"+sign+\".\"+ls[-1]\n",
    "                os.rename(fle,new_name)\n",
    "        else:\n",
    "            rename_all_files(os.path.join(CWD,fle),sign)\n",
    "    return os.chdir(\"..\")\n",
    "               "
   ]
  },
  {
   "cell_type": "markdown",
   "metadata": {},
   "source": [
    "### Enter base directory & sign(sign to add)"
   ]
  },
  {
   "cell_type": "code",
   "execution_count": 3,
   "metadata": {
    "collapsed": false
   },
   "outputs": [
    {
     "name": "stdout",
     "output_type": "stream",
     "text": [
      "location format windows E:\\temp \n",
      "\n",
      "Enter base file location:D:\\Coursework\\New\n"
     ]
    }
   ],
   "source": [
    "print \"location format windows E:\\\\temp \\n\"\n",
    "#base_dir=\"E:\\\\temp\"\n",
    "base_dir = raw_input('Enter base file location:')\n",
    "sign='[Codecops.in]'\n",
    "#sign =raw_input(\"Enter your sign : \")"
   ]
  },
  {
   "cell_type": "code",
   "execution_count": 4,
   "metadata": {
    "collapsed": false
   },
   "outputs": [
    {
     "name": "stdout",
     "output_type": "stream",
     "text": [
      "C:\\Users\\Sudhanshu Patel\\Documents\\Github\\Fun-Tool\\RenameFiles with Signature\n",
      "D:\\Coursework\\New\n"
     ]
    }
   ],
   "source": [
    "#move to base directory\n",
    "print os.getcwd()\n",
    "os.chdir(base_dir)\n",
    "print os.getcwd()"
   ]
  },
  {
   "cell_type": "code",
   "execution_count": 5,
   "metadata": {
    "collapsed": false
   },
   "outputs": [
    {
     "name": "stdout",
     "output_type": "stream",
     "text": [
      "Base address is : D:\\Coursework\\New\n",
      "R you sure to perform operation[y/n] : y\n",
      "Done Thank You\n"
     ]
    }
   ],
   "source": [
    "## __main__\n",
    "print 'Base address is :',os.getcwd()\n",
    "check_point=raw_input(\"R you sure to perform operation[y/n] : \")\n",
    "if check_point=='y' or check_point =='Y':\n",
    "    rename_all_files(os.getcwd(),sign)\n",
    "    print \"Done Thank You\"\n",
    "else:\n",
    "    print \"Ok Bye\"\n",
    "    exit()"
   ]
  },
  {
   "cell_type": "code",
   "execution_count": 21,
   "metadata": {
    "collapsed": false
   },
   "outputs": [
    {
     "data": {
      "text/plain": [
       "'E:\\\\DC++\\\\sem8\\\\pdy'"
      ]
     },
     "execution_count": 21,
     "metadata": {},
     "output_type": "execute_result"
    }
   ],
   "source": [
    "os.getcwd()"
   ]
  }
 ],
 "metadata": {
  "kernelspec": {
   "display_name": "Python 2",
   "language": "python",
   "name": "python2"
  },
  "language_info": {
   "codemirror_mode": {
    "name": "ipython",
    "version": 2
   },
   "file_extension": ".py",
   "mimetype": "text/x-python",
   "name": "python",
   "nbconvert_exporter": "python",
   "pygments_lexer": "ipython2",
   "version": "2.7.10"
  }
 },
 "nbformat": 4,
 "nbformat_minor": 0
}
