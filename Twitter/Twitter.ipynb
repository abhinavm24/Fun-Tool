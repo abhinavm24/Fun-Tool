{
 "cells": [
  {
   "cell_type": "code",
   "execution_count": 8,
   "metadata": {
    "collapsed": false
   },
   "outputs": [],
   "source": [
    "import pprint\n",
    "import tweepy\n",
    "import pymongo"
   ]
  },
  {
   "cell_type": "code",
   "execution_count": 20,
   "metadata": {
    "collapsed": false
   },
   "outputs": [
    {
     "name": "stdout",
     "output_type": "stream",
     "text": [
      "Database(MongoClient(host=['localhost:27017'], document_class=dict, tz_aware=False, connect=True), u'Twitter')\n"
     ]
    }
   ],
   "source": [
    "client=pymongo.MongoClient()\n",
    "db=client[\"Twitter\"]\n",
    "print db"
   ]
  },
  {
   "cell_type": "markdown",
   "metadata": {},
   "source": [
    "## Note: My credentials Is stored in mongoDb database"
   ]
  },
  {
   "cell_type": "code",
   "execution_count": 23,
   "metadata": {
    "collapsed": false
   },
   "outputs": [],
   "source": [
    "cred=db.login.find_one({})"
   ]
  },
  {
   "cell_type": "code",
   "execution_count": 25,
   "metadata": {
    "collapsed": false
   },
   "outputs": [
    {
     "data": {
      "text/plain": [
       "<tweepy.api.API at 0x49ea4f0>"
      ]
     },
     "execution_count": 25,
     "metadata": {},
     "output_type": "execute_result"
    }
   ],
   "source": [
    "#Tweepy Login credensials are stored in mongodb databse\n",
    "auth = tweepy.OAuthHandler(cred[\"consumerKey\"], cred[\"consumerSecret\"])\n",
    "auth.set_access_token(cred[\"oauthTocken\"], cred[\"oauthTokenSecret\"])\n",
    "api = tweepy.API(auth)\n",
    "api"
   ]
  },
  {
   "cell_type": "markdown",
   "metadata": {},
   "source": [
    "<h2>Where On Earth ID (WOEID)</h2>\n",
    "Extract WOEID for most common places & store for future reference, Becouse query is limited on twitter"
   ]
  },
  {
   "cell_type": "markdown",
   "metadata": {
    "collapsed": false
   },
   "source": [
    "#below two line are commented becouse data already stored in db no need of it anymore<br />\n",
    "<p><b>\n",
    "Woeid = api.trends_available() #<br />\n",
    "db.WOEID.insert_many(Woeid)\n",
    "</b></p>"
   ]
  },
  {
   "cell_type": "markdown",
   "metadata": {
    "collapsed": false
   },
   "source": [
    "### Selecting Cities in WOEID data "
   ]
  },
  {
   "cell_type": "code",
   "execution_count": 63,
   "metadata": {
    "collapsed": false
   },
   "outputs": [],
   "source": [
    "cities=[\"Delhi\",\"Kolkata\",\"Bangalore\",\"Surat\",\"India\"]\n",
    "loc = list(db.WOEID.find({\"country\" : \"India\",'name':{\"$in\":cities}},{'_id':0,'name':1,'woeid':1}))\n"
   ]
  },
  {
   "cell_type": "code",
   "execution_count": 64,
   "metadata": {
    "collapsed": false
   },
   "outputs": [
    {
     "name": "stdout",
     "output_type": "stream",
     "text": [
      "{u'name': u'Surat', u'woeid': 2295405}\n"
     ]
    }
   ],
   "source": [
    "pprint.pprint(loc[1])"
   ]
  },
  {
   "cell_type": "markdown",
   "metadata": {},
   "source": [
    "## Performing Latest Trend Query & Strore them"
   ]
  },
  {
   "cell_type": "code",
   "execution_count": 73,
   "metadata": {
    "collapsed": false
   },
   "outputs": [],
   "source": [
    "Trend={}\n",
    "for place in loc:\n",
    "    Trend[place[\"name\"]] = api.trends_place(place[\"woeid\"])"
   ]
  },
  {
   "cell_type": "markdown",
   "metadata": {},
   "source": [
    "### Clean OUr Data drop unneccesary content"
   ]
  },
  {
   "cell_type": "code",
   "execution_count": 84,
   "metadata": {
    "collapsed": false
   },
   "outputs": [],
   "source": [
    "for key in Trend:\n",
    "    for trend in Trend[key][0]['trends']:\n",
    "        del trend['query']\n",
    "        del trend[\"url\"]"
   ]
  },
  {
   "cell_type": "markdown",
   "metadata": {},
   "source": [
    "### Insert Data Into database\n"
   ]
  },
  {
   "cell_type": "code",
   "execution_count": 94,
   "metadata": {
    "collapsed": false
   },
   "outputs": [
    {
     "name": "stdout",
     "output_type": "stream",
     "text": [
      "Insertion Complete\n"
     ]
    }
   ],
   "source": [
    "for key in Trend:\n",
    "    db.placesT.insert_one(Trend[key][0])\n",
    "print \"Insertion Complete\"\n"
   ]
  },
  {
   "cell_type": "code",
   "execution_count": 95,
   "metadata": {
    "collapsed": true
   },
   "outputs": [],
   "source": [
    "#Delete All Unused Variables\n",
    "del key,Trend"
   ]
  },
  {
   "cell_type": "markdown",
   "metadata": {},
   "source": [
    "## AnaLysing Data"
   ]
  },
  {
   "cell_type": "code",
   "execution_count": 97,
   "metadata": {
    "collapsed": false
   },
   "outputs": [],
   "source": [
    "#extract Data from databse\n",
    "trend=list(db.placesT.find({}))"
   ]
  },
  {
   "cell_type": "code",
   "execution_count": 113,
   "metadata": {
    "collapsed": false
   },
   "outputs": [
    {
     "data": {
      "text/plain": [
       "[11525,\n",
       " 20336,\n",
       " 19451,\n",
       " None,\n",
       " 14595,\n",
       " None,\n",
       " None,\n",
       " None,\n",
       " None,\n",
       " 11024,\n",
       " None,\n",
       " 14901,\n",
       " None,\n",
       " None,\n",
       " None,\n",
       " None,\n",
       " 74522,\n",
       " None,\n",
       " None,\n",
       " None,\n",
       " None,\n",
       " None,\n",
       " None,\n",
       " None,\n",
       " None,\n",
       " None,\n",
       " None,\n",
       " 15682,\n",
       " None,\n",
       " None,\n",
       " None,\n",
       " 28099,\n",
       " 42621,\n",
       " None,\n",
       " None,\n",
       " None,\n",
       " None,\n",
       " None,\n",
       " 47775,\n",
       " 88121,\n",
       " 14279,\n",
       " None,\n",
       " None,\n",
       " None]"
      ]
     },
     "execution_count": 113,
     "metadata": {},
     "output_type": "execute_result"
    }
   ],
   "source": [
    "#colName=trend[0]['locations'][0]['name']\n",
    "trendName=[li[\"name\"] for li in  trend[0]['trends']]\n",
    "tweetVolume=[li[\"tweet_volume\"] for li in trend[0][\"trends\"]]\n",
    "tweetVolume"
   ]
  },
  {
   "cell_type": "code",
   "execution_count": 98,
   "metadata": {
    "collapsed": false
   },
   "outputs": [
    {
     "data": {
      "text/plain": [
       "{u'_id': ObjectId('56b5d2a452b9770fa821a0c7'),\n",
       " u'as_of': u'2016-02-05T20:55:17Z',\n",
       " u'created_at': u'2016-02-05T20:46:31Z',\n",
       " u'locations': [{u'name': u'Kolkata', u'woeid': 2295386}],\n",
       " u'trends': [{u'name': u'#Don3ComingSoon',\n",
       "   u'promoted_content': None,\n",
       "   u'tweet_volume': 11525},\n",
       "  {u'name': u'#GujaratLandScam',\n",
       "   u'promoted_content': None,\n",
       "   u'tweet_volume': 20336},\n",
       "  {u'name': u'#earthquake', u'promoted_content': None, u'tweet_volume': 19451},\n",
       "  {u'name': u'#NFBA2016', u'promoted_content': None, u'tweet_volume': None},\n",
       "  {u'name': u'#\\u0938\\u093f\\u0902\\u0939\\u0938\\u094d\\u0925_\\u0915\\u0941\\u0902\\u092d_\\u0909\\u091c\\u094d\\u091c\\u0948\\u0928',\n",
       "   u'promoted_content': None,\n",
       "   u'tweet_volume': 14595},\n",
       "  {u'name': u'Happy Birthday BESA',\n",
       "   u'promoted_content': None,\n",
       "   u'tweet_volume': None},\n",
       "  {u'name': u'Randeep Hooda',\n",
       "   u'promoted_content': None,\n",
       "   u'tweet_volume': None},\n",
       "  {u'name': u'Bagga', u'promoted_content': None, u'tweet_volume': None},\n",
       "  {u'name': u'Karun Nair', u'promoted_content': None, u'tweet_volume': None},\n",
       "  {u'name': u'Sonu Nigam', u'promoted_content': None, u'tweet_volume': 11024},\n",
       "  {u'name': u'GoodYear At Expo16',\n",
       "   u'promoted_content': None,\n",
       "   u'tweet_volume': None},\n",
       "  {u'name': u'Siachen', u'promoted_content': None, u'tweet_volume': 14901},\n",
       "  {u'name': u'#OneIndiaOneLaw',\n",
       "   u'promoted_content': None,\n",
       "   u'tweet_volume': None},\n",
       "  {u'name': u'#24OnAXN', u'promoted_content': None, u'tweet_volume': None},\n",
       "  {u'name': u'#OpeningCeremony',\n",
       "   u'promoted_content': None,\n",
       "   u'tweet_volume': None},\n",
       "  {u'name': u'#1MonthToJaiGangaajal',\n",
       "   u'promoted_content': None,\n",
       "   u'tweet_volume': None},\n",
       "  {u'name': u'#WorldNutellaDay',\n",
       "   u'promoted_content': None,\n",
       "   u'tweet_volume': 74522},\n",
       "  {u'name': u'#AllNewBMWX1', u'promoted_content': None, u'tweet_volume': None},\n",
       "  {u'name': u'#DatsunPavilion',\n",
       "   u'promoted_content': None,\n",
       "   u'tweet_volume': None},\n",
       "  {u'name': u'#Greenovation',\n",
       "   u'promoted_content': None,\n",
       "   u'tweet_volume': None},\n",
       "  {u'name': u'#ShowYourLoveWithFlipkart',\n",
       "   u'promoted_content': None,\n",
       "   u'tweet_volume': None},\n",
       "  {u'name': u'#Celebrating1000',\n",
       "   u'promoted_content': None,\n",
       "   u'tweet_volume': None},\n",
       "  {u'name': u'#ToyotaHybrid',\n",
       "   u'promoted_content': None,\n",
       "   u'tweet_volume': None},\n",
       "  {u'name': u'#KhelKabaddi', u'promoted_content': None, u'tweet_volume': None},\n",
       "  {u'name': u'#foundersday', u'promoted_content': None, u'tweet_volume': None},\n",
       "  {u'name': u'#Taandav', u'promoted_content': None, u'tweet_volume': None},\n",
       "  {u'name': u'#MeetTheLegend',\n",
       "   u'promoted_content': None,\n",
       "   u'tweet_volume': None},\n",
       "  {u'name': u'#GhayalOnceAgain',\n",
       "   u'promoted_content': None,\n",
       "   u'tweet_volume': 15682},\n",
       "  {u'name': u'#AnilKapoorWithScross',\n",
       "   u'promoted_content': None,\n",
       "   u'tweet_volume': None},\n",
       "  {u'name': u'#GhayalOnShemarooRT',\n",
       "   u'promoted_content': None,\n",
       "   u'tweet_volume': None},\n",
       "  {u'name': u'#IndiaFirst', u'promoted_content': None, u'tweet_volume': None},\n",
       "  {u'name': u'#1YearOfNonpareilCopSatyadev',\n",
       "   u'promoted_content': None,\n",
       "   u'tweet_volume': 28099},\n",
       "  {u'name': u'#TheriTeaser',\n",
       "   u'promoted_content': None,\n",
       "   u'tweet_volume': 42621},\n",
       "  {u'name': u'#FordAtAutoExpo',\n",
       "   u'promoted_content': None,\n",
       "   u'tweet_volume': None},\n",
       "  {u'name': u'#TanzanianGirl',\n",
       "   u'promoted_content': None,\n",
       "   u'tweet_volume': None},\n",
       "  {u'name': u'#FreeChargeKaLunch',\n",
       "   u'promoted_content': None,\n",
       "   u'tweet_volume': None},\n",
       "  {u'name': u'#DanceForPrem',\n",
       "   u'promoted_content': None,\n",
       "   u'tweet_volume': None},\n",
       "  {u'name': u'#AsiaCup', u'promoted_content': None, u'tweet_volume': None},\n",
       "  {u'name': u'#WeUrgeBail4Bapuji',\n",
       "   u'promoted_content': None,\n",
       "   u'tweet_volume': 47775},\n",
       "  {u'name': u'#WorldCancerDay',\n",
       "   u'promoted_content': None,\n",
       "   u'tweet_volume': 88121},\n",
       "  {u'name': u'#TheRoadIsWaiting',\n",
       "   u'promoted_content': None,\n",
       "   u'tweet_volume': 14279},\n",
       "  {u'name': u'#PdpBjpFailedJK',\n",
       "   u'promoted_content': None,\n",
       "   u'tweet_volume': None},\n",
       "  {u'name': u'#GreatVsAudacious',\n",
       "   u'promoted_content': None,\n",
       "   u'tweet_volume': None},\n",
       "  {u'name': u'#IFR2016', u'promoted_content': None, u'tweet_volume': None}]}"
      ]
     },
     "execution_count": 98,
     "metadata": {},
     "output_type": "execute_result"
    }
   ],
   "source": [
    "trend[0]['as_of']"
   ]
  },
  {
   "cell_type": "code",
   "execution_count": null,
   "metadata": {
    "collapsed": true
   },
   "outputs": [],
   "source": []
  }
 ],
 "metadata": {
  "kernelspec": {
   "display_name": "Python 2",
   "language": "python",
   "name": "python2"
  },
  "language_info": {
   "codemirror_mode": {
    "name": "ipython",
    "version": 2
   },
   "file_extension": ".py",
   "mimetype": "text/x-python",
   "name": "python",
   "nbconvert_exporter": "python",
   "pygments_lexer": "ipython2",
   "version": "2.7.11"
  }
 },
 "nbformat": 4,
 "nbformat_minor": 0
}
