{
 "metadata": {
  "name": "",
  "signature": "sha256:1078cfcd98d1af1f34451ff2e45f6303e2e50f226949de18dac4c24988f1ac9e"
 },
 "nbformat": 3,
 "nbformat_minor": 0,
 "worksheets": [
  {
   "cells": [
    {
     "cell_type": "code",
     "collapsed": false,
     "input": [
      "import re"
     ],
     "language": "python",
     "metadata": {},
     "outputs": [],
     "prompt_number": 1
    },
    {
     "cell_type": "code",
     "collapsed": false,
     "input": [
      "#crating regex for give sample\n",
      "regex = re.compile(r'<td>(.+?) &lt\\;(.+\\(at\\).+\\(dot\\).+)&gt\\;</td>')"
     ],
     "language": "python",
     "metadata": {},
     "outputs": [],
     "prompt_number": 6
    },
    {
     "cell_type": "code",
     "collapsed": false,
     "input": [
      "#open file\n",
      "file=open('email_sample.html','r')"
     ],
     "language": "python",
     "metadata": {},
     "outputs": [
      {
       "output_type": "stream",
       "stream": "stdout",
       "text": [
        "\n"
       ]
      }
     ],
     "prompt_number": 11
    },
    {
     "cell_type": "code",
     "collapsed": false,
     "input": [
      "email=[]\n",
      "for line in file:\n",
      "    m=regex.search(line)\n",
      "    try:\n",
      "        email.append((m.group(1),m.group(2)))\n",
      "    except:\n",
      "        pass\n",
      "print 'Total Email Extracted: ',len(email)\n",
      "print 'sample Email :',email[0]"
     ],
     "language": "python",
     "metadata": {},
     "outputs": [
      {
       "output_type": "stream",
       "stream": "stdout",
       "text": [
        "Total Email Extracted:  88262\n",
        "sample Email : ('Siddhartha Roy', 'siddhartha.r85(at)gmail(dot)com')\n"
       ]
      }
     ],
     "prompt_number": 12
    },
    {
     "cell_type": "code",
     "collapsed": false,
     "input": [
      "email[1]"
     ],
     "language": "python",
     "metadata": {},
     "outputs": [
      {
       "metadata": {},
       "output_type": "pyout",
       "prompt_number": 8,
       "text": [
        "('Akash Rathi', 'akrathi9945(at)gmail(dot)com')"
       ]
      }
     ],
     "prompt_number": 8
    },
    {
     "cell_type": "heading",
     "level": 2,
     "metadata": {},
     "source": [
      "replacing (dot) & (at) "
     ]
    },
    {
     "cell_type": "code",
     "collapsed": false,
     "input": [
      "#Testing\n",
      "replaceDot = re.compile(r'\\(dot\\)')\n",
      "replaceAt = re.compile(r'\\(at\\)')\n",
      "\n",
      "temp = replaceDot.sub('.',email[0][1])\n",
      "print replaceAt.sub('@',temp)"
     ],
     "language": "python",
     "metadata": {},
     "outputs": [
      {
       "output_type": "stream",
       "stream": "stdout",
       "text": [
        "siddhartha.r85@gmail.com\n"
       ]
      }
     ],
     "prompt_number": 17
    },
    {
     "cell_type": "code",
     "collapsed": false,
     "input": [
      "replaceDot = re.compile(r'\\(dot\\)')\n",
      "replaceAt = re.compile(r'\\(at\\)')\n",
      "\n",
      "PureEmail_data=[]\n",
      "for rec in email:\n",
      "    temp = replaceDot.sub('.',rec[1])\n",
      "    PureEmail_data.append((rec[0],replaceAt.sub('@',temp)))\n",
      "\n",
      "print \"sample result :\",PureEmail_data[0]"
     ],
     "language": "python",
     "metadata": {},
     "outputs": [
      {
       "output_type": "stream",
       "stream": "stdout",
       "text": [
        "sample result : ('Siddhartha Roy', 'siddhartha.r85@gmail.com')\n"
       ]
      }
     ],
     "prompt_number": 21
    },
    {
     "cell_type": "code",
     "collapsed": false,
     "input": [
      "\n",
      "print 'Total Harvested Email :',len(PureEmail_data)\n",
      "del email"
     ],
     "language": "python",
     "metadata": {},
     "outputs": [
      {
       "output_type": "stream",
       "stream": "stdout",
       "text": [
        "Total Harvested Email : 88262\n"
       ]
      }
     ],
     "prompt_number": 23
    },
    {
     "cell_type": "code",
     "collapsed": false,
     "input": [],
     "language": "python",
     "metadata": {},
     "outputs": []
    }
   ],
   "metadata": {}
  }
 ]
}