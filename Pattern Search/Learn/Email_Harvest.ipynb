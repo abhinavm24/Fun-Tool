{
 "cells": [
  {
   "cell_type": "code",
   "execution_count": 1,
   "metadata": {
    "collapsed": false
   },
   "outputs": [],
   "source": [
    "import re"
   ]
  },
  {
   "cell_type": "code",
   "execution_count": 6,
   "metadata": {
    "collapsed": false
   },
   "outputs": [],
   "source": [
    "#crating regex for give sample\n",
    "regex = re.compile(r'<td>(.+?) &lt\\;(.+\\(at\\).+\\(dot\\).+)&gt\\;</td>')"
   ]
  },
  {
   "cell_type": "code",
   "execution_count": 11,
   "metadata": {
    "collapsed": false
   },
   "outputs": [
    {
     "name": "stdout",
     "output_type": "stream",
     "text": [
      "\n"
     ]
    }
   ],
   "source": [
    "#open file\n",
    "file=open('email_sample.html','r')"
   ]
  },
  {
   "cell_type": "code",
   "execution_count": 12,
   "metadata": {
    "collapsed": false
   },
   "outputs": [
    {
     "name": "stdout",
     "output_type": "stream",
     "text": [
      "Total Email Extracted:  88262\n",
      "sample Email : ('Siddhartha Roy', 'siddhartha.r85(at)gmail(dot)com')\n"
     ]
    }
   ],
   "source": [
    "email=[]\n",
    "for line in file:\n",
    "    m=regex.search(line)\n",
    "    try:\n",
    "        email.append((m.group(1),m.group(2)))\n",
    "    except:\n",
    "        pass\n",
    "print 'Total Email Extracted: ',len(email)\n",
    "print 'sample Email :',email[0]"
   ]
  },
  {
   "cell_type": "code",
   "execution_count": 8,
   "metadata": {
    "collapsed": false
   },
   "outputs": [
    {
     "data": {
      "text/plain": [
       "('Akash Rathi', 'akrathi9945(at)gmail(dot)com')"
      ]
     },
     "execution_count": 8,
     "metadata": {},
     "output_type": "execute_result"
    }
   ],
   "source": [
    "email[1]"
   ]
  },
  {
   "cell_type": "markdown",
   "metadata": {},
   "source": [
    "## replacing (dot) & (at) "
   ]
  },
  {
   "cell_type": "code",
   "execution_count": 17,
   "metadata": {
    "collapsed": false
   },
   "outputs": [
    {
     "name": "stdout",
     "output_type": "stream",
     "text": [
      "siddhartha.r85@gmail.com\n"
     ]
    }
   ],
   "source": [
    "#Testing\n",
    "replaceDot = re.compile(r'\\(dot\\)')\n",
    "replaceAt = re.compile(r'\\(at\\)')\n",
    "\n",
    "temp = replaceDot.sub('.',email[0][1])\n",
    "print replaceAt.sub('@',temp)"
   ]
  },
  {
   "cell_type": "code",
   "execution_count": 21,
   "metadata": {
    "collapsed": false
   },
   "outputs": [
    {
     "name": "stdout",
     "output_type": "stream",
     "text": [
      "sample result : ('Siddhartha Roy', 'siddhartha.r85@gmail.com')\n"
     ]
    }
   ],
   "source": [
    "replaceDot = re.compile(r'\\(dot\\)')\n",
    "replaceAt = re.compile(r'\\(at\\)')\n",
    "\n",
    "PureEmail_data=[]\n",
    "for rec in email:\n",
    "    temp = replaceDot.sub('.',rec[1])\n",
    "    PureEmail_data.append((rec[0],replaceAt.sub('@',temp)))\n",
    "\n",
    "print \"sample result :\",PureEmail_data[0]"
   ]
  },
  {
   "cell_type": "code",
   "execution_count": 23,
   "metadata": {
    "collapsed": false
   },
   "outputs": [
    {
     "name": "stdout",
     "output_type": "stream",
     "text": [
      "Total Harvested Email : 88262\n"
     ]
    }
   ],
   "source": [
    "\n",
    "print 'Total Harvested Email :',len(PureEmail_data)\n",
    "del email"
   ]
  },
  {
   "cell_type": "code",
   "execution_count": null,
   "metadata": {
    "collapsed": false
   },
   "outputs": [],
   "source": []
  }
 ],
 "metadata": {
  "kernelspec": {
   "display_name": "Python 2",
   "language": "python",
   "name": "python2"
  },
  "language_info": {
   "codemirror_mode": {
    "name": "ipython",
    "version": 2
   },
   "file_extension": ".py",
   "mimetype": "text/x-python",
   "name": "python",
   "nbconvert_exporter": "python",
   "pygments_lexer": "ipython2",
   "version": "2.7.10"
  }
 },
 "nbformat": 4,
 "nbformat_minor": 0
}
