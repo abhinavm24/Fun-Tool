{
 "cells": [
  {
   "cell_type": "code",
   "execution_count": 34,
   "metadata": {
    "collapsed": true
   },
   "outputs": [],
   "source": [
    "from sklearn.svm import SVC\n",
    "from sklearn.tree import DecisionTreeClassifier\n",
    "from sklearn.metrics import accuracy_score\n",
    "from sklearn.preprocessing import normalize\n",
    "import numpy as np\n",
    "import pandas as pd"
   ]
  },
  {
   "cell_type": "code",
   "execution_count": 32,
   "metadata": {
    "collapsed": false
   },
   "outputs": [
    {
     "data": {
      "text/html": [
       "<div>\n",
       "<table border=\"1\" class=\"dataframe\">\n",
       "  <thead>\n",
       "    <tr style=\"text-align: right;\">\n",
       "      <th></th>\n",
       "      <th>-0.16897227</th>\n",
       "      <th>-0.178321981</th>\n",
       "      <th>-0.095154471</th>\n",
       "      <th>-0.051145173</th>\n",
       "      <th>-0.024695237</th>\n",
       "      <th>0.006821866</th>\n",
       "      <th>0.146600514</th>\n",
       "      <th>0.049728133</th>\n",
       "      <th>-0.030760814</th>\n",
       "      <th>-0.030717532</th>\n",
       "      <th>...</th>\n",
       "      <th>0.784022832</th>\n",
       "      <th>0.506615997</th>\n",
       "      <th>0.657809798</th>\n",
       "      <th>0.726842459</th>\n",
       "      <th>0.044562985</th>\n",
       "      <th>0.169059196</th>\n",
       "      <th>0.267928391</th>\n",
       "      <th>0.438069021</th>\n",
       "      <th>-0.028649762</th>\n",
       "      <th>1</th>\n",
       "    </tr>\n",
       "  </thead>\n",
       "  <tbody>\n",
       "    <tr>\n",
       "      <th>0</th>\n",
       "      <td>1.150855</td>\n",
       "      <td>1.023013</td>\n",
       "      <td>0.482823</td>\n",
       "      <td>1.808277</td>\n",
       "      <td>1.681753</td>\n",
       "      <td>0.369737</td>\n",
       "      <td>1.162185</td>\n",
       "      <td>2.948635</td>\n",
       "      <td>1.297460</td>\n",
       "      <td>1.556453</td>\n",
       "      <td>...</td>\n",
       "      <td>0.240170</td>\n",
       "      <td>0.612654</td>\n",
       "      <td>0.860099</td>\n",
       "      <td>0.984312</td>\n",
       "      <td>0.763681</td>\n",
       "      <td>1.023541</td>\n",
       "      <td>0.478984</td>\n",
       "      <td>0.591697</td>\n",
       "      <td>-0.018466</td>\n",
       "      <td>1</td>\n",
       "    </tr>\n",
       "    <tr>\n",
       "      <th>1</th>\n",
       "      <td>-0.239892</td>\n",
       "      <td>-0.286383</td>\n",
       "      <td>-0.117660</td>\n",
       "      <td>-0.041761</td>\n",
       "      <td>0.045529</td>\n",
       "      <td>0.350156</td>\n",
       "      <td>0.757991</td>\n",
       "      <td>0.672565</td>\n",
       "      <td>0.261040</td>\n",
       "      <td>0.249775</td>\n",
       "      <td>...</td>\n",
       "      <td>0.320247</td>\n",
       "      <td>1.314314</td>\n",
       "      <td>1.746596</td>\n",
       "      <td>1.972543</td>\n",
       "      <td>0.145621</td>\n",
       "      <td>0.192455</td>\n",
       "      <td>0.480254</td>\n",
       "      <td>1.275407</td>\n",
       "      <td>-0.019574</td>\n",
       "      <td>1</td>\n",
       "    </tr>\n",
       "    <tr>\n",
       "      <th>2</th>\n",
       "      <td>0.616870</td>\n",
       "      <td>0.935586</td>\n",
       "      <td>0.557368</td>\n",
       "      <td>0.506930</td>\n",
       "      <td>1.129597</td>\n",
       "      <td>0.015468</td>\n",
       "      <td>-0.019766</td>\n",
       "      <td>0.371247</td>\n",
       "      <td>0.159066</td>\n",
       "      <td>0.341238</td>\n",
       "      <td>...</td>\n",
       "      <td>2.490612</td>\n",
       "      <td>1.543079</td>\n",
       "      <td>1.936653</td>\n",
       "      <td>2.168959</td>\n",
       "      <td>1.326236</td>\n",
       "      <td>1.985246</td>\n",
       "      <td>1.321501</td>\n",
       "      <td>1.634900</td>\n",
       "      <td>-0.008216</td>\n",
       "      <td>1</td>\n",
       "    </tr>\n",
       "    <tr>\n",
       "      <th>3</th>\n",
       "      <td>-0.203458</td>\n",
       "      <td>-0.082669</td>\n",
       "      <td>0.101029</td>\n",
       "      <td>0.022260</td>\n",
       "      <td>0.554096</td>\n",
       "      <td>0.258584</td>\n",
       "      <td>0.295721</td>\n",
       "      <td>0.092840</td>\n",
       "      <td>0.010436</td>\n",
       "      <td>0.063246</td>\n",
       "      <td>...</td>\n",
       "      <td>1.729174</td>\n",
       "      <td>1.035423</td>\n",
       "      <td>1.461515</td>\n",
       "      <td>1.546399</td>\n",
       "      <td>0.365488</td>\n",
       "      <td>0.338945</td>\n",
       "      <td>1.001988</td>\n",
       "      <td>1.224796</td>\n",
       "      <td>-0.013884</td>\n",
       "      <td>1</td>\n",
       "    </tr>\n",
       "    <tr>\n",
       "      <th>4</th>\n",
       "      <td>0.594482</td>\n",
       "      <td>0.142026</td>\n",
       "      <td>0.020022</td>\n",
       "      <td>0.562168</td>\n",
       "      <td>0.201262</td>\n",
       "      <td>1.015226</td>\n",
       "      <td>1.649477</td>\n",
       "      <td>0.720609</td>\n",
       "      <td>0.267196</td>\n",
       "      <td>0.035037</td>\n",
       "      <td>...</td>\n",
       "      <td>0.831768</td>\n",
       "      <td>0.712272</td>\n",
       "      <td>0.949732</td>\n",
       "      <td>1.076258</td>\n",
       "      <td>0.202871</td>\n",
       "      <td>1.748063</td>\n",
       "      <td>0.576664</td>\n",
       "      <td>0.627897</td>\n",
       "      <td>-0.025558</td>\n",
       "      <td>1</td>\n",
       "    </tr>\n",
       "  </tbody>\n",
       "</table>\n",
       "<p>5 rows × 1345 columns</p>\n",
       "</div>"
      ],
      "text/plain": [
       "   -0.16897227  -0.178321981  -0.095154471  -0.051145173  -0.024695237  \\\n",
       "0     1.150855      1.023013      0.482823      1.808277      1.681753   \n",
       "1    -0.239892     -0.286383     -0.117660     -0.041761      0.045529   \n",
       "2     0.616870      0.935586      0.557368      0.506930      1.129597   \n",
       "3    -0.203458     -0.082669      0.101029      0.022260      0.554096   \n",
       "4     0.594482      0.142026      0.020022      0.562168      0.201262   \n",
       "\n",
       "   0.006821866  0.146600514  0.049728133  -0.030760814  -0.030717532 ...  \\\n",
       "0     0.369737     1.162185     2.948635      1.297460      1.556453 ...   \n",
       "1     0.350156     0.757991     0.672565      0.261040      0.249775 ...   \n",
       "2     0.015468    -0.019766     0.371247      0.159066      0.341238 ...   \n",
       "3     0.258584     0.295721     0.092840      0.010436      0.063246 ...   \n",
       "4     1.015226     1.649477     0.720609      0.267196      0.035037 ...   \n",
       "\n",
       "   0.784022832  0.506615997  0.657809798  0.726842459  0.044562985  \\\n",
       "0     0.240170     0.612654     0.860099     0.984312     0.763681   \n",
       "1     0.320247     1.314314     1.746596     1.972543     0.145621   \n",
       "2     2.490612     1.543079     1.936653     2.168959     1.326236   \n",
       "3     1.729174     1.035423     1.461515     1.546399     0.365488   \n",
       "4     0.831768     0.712272     0.949732     1.076258     0.202871   \n",
       "\n",
       "   0.169059196  0.267928391  0.438069021  -0.028649762  1  \n",
       "0     1.023541     0.478984     0.591697     -0.018466  1  \n",
       "1     0.192455     0.480254     1.275407     -0.019574  1  \n",
       "2     1.985246     1.321501     1.634900     -0.008216  1  \n",
       "3     0.338945     1.001988     1.224796     -0.013884  1  \n",
       "4     1.748063     0.576664     0.627897     -0.025558  1  \n",
       "\n",
       "[5 rows x 1345 columns]"
      ]
     },
     "execution_count": 32,
     "metadata": {},
     "output_type": "execute_result"
    }
   ],
   "source": [
    "data=pd.read_csv(\"eeg_data.csv\")\n",
    "data.head()"
   ]
  },
  {
   "cell_type": "markdown",
   "metadata": {},
   "source": [
    "# Normalise data"
   ]
  },
  {
   "cell_type": "code",
   "execution_count": 41,
   "metadata": {
    "collapsed": false
   },
   "outputs": [],
   "source": [
    "\n",
    "\n",
    "Norm_feature=normalize(data.loc[:,data.columns != '1'], norm='l2', axis=1, copy=True)\n",
    "labels=np.array(data.loc[:,data.columns == '1'])"
   ]
  },
  {
   "cell_type": "code",
   "execution_count": 123,
   "metadata": {
    "collapsed": false
   },
   "outputs": [
    {
     "name": "stdout",
     "output_type": "stream",
     "text": [
      "Total feature  1344\n",
      "Total data  2669 2669\n"
     ]
    }
   ],
   "source": [
    "print \"Total feature \", len(Norm_feature[1])\n",
    "print \"Total data \", len(Norm_feature),len(labels)"
   ]
  },
  {
   "cell_type": "markdown",
   "metadata": {},
   "source": [
    "# CrEating testing and Trainig set"
   ]
  },
  {
   "cell_type": "code",
   "execution_count": 95,
   "metadata": {
    "collapsed": false
   },
   "outputs": [],
   "source": [
    "train_x=np.concatenate((Norm_feature[:730],Norm_feature[800:2061],Norm_feature[2150:]),axis=0)\n",
    "train_y=np.concatenate((labels[:730],labels[800:2061],labels[2150:]),axis=0)\n",
    "\n",
    "test_x=np.concatenate((Norm_feature[700:801],Norm_feature[2060:2150]),axis=0)\n",
    "test_y=np.concatenate((labels[700:801],labels[2060:2150]))"
   ]
  },
  {
   "cell_type": "code",
   "execution_count": 96,
   "metadata": {
    "collapsed": false
   },
   "outputs": [
    {
     "name": "stdout",
     "output_type": "stream",
     "text": [
      "training data 2510\n",
      "testing data 191\n"
     ]
    }
   ],
   "source": [
    "print \"training data\",len(train_x)\n",
    "print \"testing data\",len(test_x)"
   ]
  },
  {
   "cell_type": "markdown",
   "metadata": {},
   "source": [
    "# SVM Classifier"
   ]
  },
  {
   "cell_type": "code",
   "execution_count": 97,
   "metadata": {
    "collapsed": true
   },
   "outputs": [],
   "source": [
    "# clsf = classifier\n",
    "clsf=SVC(kernel='rbf',gamma=.8,C=4) #SVM Classier\n",
    "svm={} #store accuracy data for plotting"
   ]
  },
  {
   "cell_type": "code",
   "execution_count": 98,
   "metadata": {
    "collapsed": false
   },
   "outputs": [
    {
     "data": {
      "text/plain": [
       "SVC(C=4, cache_size=200, class_weight=None, coef0=0.0,\n",
       "  decision_function_shape=None, degree=3, gamma=0.8, kernel='rbf',\n",
       "  max_iter=-1, probability=False, random_state=None, shrinking=True,\n",
       "  tol=0.001, verbose=False)"
      ]
     },
     "execution_count": 98,
     "metadata": {},
     "output_type": "execute_result"
    }
   ],
   "source": [
    "#training\n",
    "clsf.fit(train_x, train_y)"
   ]
  },
  {
   "cell_type": "markdown",
   "metadata": {},
   "source": [
    "# Testing accuracy on training data"
   ]
  },
  {
   "cell_type": "code",
   "execution_count": 99,
   "metadata": {
    "collapsed": false
   },
   "outputs": [
    {
     "name": "stdout",
     "output_type": "stream",
     "text": [
      "Accuracy Check  96.2549800797 %\n"
     ]
    }
   ],
   "source": [
    "#Now testing for trainig data\n",
    "#Now predict values for given classifier\n",
    "prediction = clsf.predict(train_x)\n",
    "svm[\"trainig_set\"]=accuracy_score(prediction,train_y)*100\n",
    "print 'Accuracy Check ',svm[\"trainig_set\"],'%'"
   ]
  },
  {
   "cell_type": "markdown",
   "metadata": {},
   "source": [
    "# Testing accuracy on Testing data"
   ]
  },
  {
   "cell_type": "code",
   "execution_count": 100,
   "metadata": {
    "collapsed": false
   },
   "outputs": [
    {
     "name": "stdout",
     "output_type": "stream",
     "text": [
      "Accuracy Check  70.1570680628 %\n"
     ]
    }
   ],
   "source": [
    "prediction = clsf.predict(test_x)\n",
    "svm[\"test_set\"]=accuracy_score(prediction,test_y)*100\n",
    "print 'Accuracy Check ',svm[\"test_set\"],'%'"
   ]
  },
  {
   "cell_type": "code",
   "execution_count": 101,
   "metadata": {
    "collapsed": false
   },
   "outputs": [
    {
     "data": {
      "text/plain": [
       "{'test_set': 70.157068062827221, 'trainig_set': 96.254980079681275}"
      ]
     },
     "execution_count": 101,
     "metadata": {},
     "output_type": "execute_result"
    }
   ],
   "source": [
    "svm"
   ]
  },
  {
   "cell_type": "markdown",
   "metadata": {},
   "source": [
    "# Decision Tree Classifier"
   ]
  },
  {
   "cell_type": "code",
   "execution_count": 102,
   "metadata": {
    "collapsed": false
   },
   "outputs": [
    {
     "data": {
      "text/plain": [
       "DecisionTreeClassifier(class_weight=None, criterion='gini', max_depth=10,\n",
       "            max_features=None, max_leaf_nodes=None, min_samples_leaf=1,\n",
       "            min_samples_split=4, min_weight_fraction_leaf=0.0,\n",
       "            presort=False, random_state=None, splitter='best')"
      ]
     },
     "execution_count": 102,
     "metadata": {},
     "output_type": "execute_result"
    }
   ],
   "source": [
    "decision={}\n",
    "clf=DecisionTreeClassifier(max_depth=10,min_samples_split=4)\n",
    "clf"
   ]
  },
  {
   "cell_type": "code",
   "execution_count": 103,
   "metadata": {
    "collapsed": true
   },
   "outputs": [],
   "source": [
    "#train\n",
    "clf = clf.fit(train_x, train_y)"
   ]
  },
  {
   "cell_type": "markdown",
   "metadata": {},
   "source": [
    "# Testing accuracy on training data"
   ]
  },
  {
   "cell_type": "code",
   "execution_count": 104,
   "metadata": {
    "collapsed": false
   },
   "outputs": [
    {
     "name": "stdout",
     "output_type": "stream",
     "text": [
      "Accuracy Check  96.4940239044 %\n"
     ]
    }
   ],
   "source": [
    "\n",
    "\n",
    "#Now testing for trainig data\n",
    "#Now predict values for given classifier\n",
    "prediction = clf.predict(train_x)\n",
    "decision[\"trainig_set\"]=accuracy_score(prediction,train_y)*100\n",
    "print 'Accuracy Check ',decision[\"trainig_set\"],'%'\n",
    "\n"
   ]
  },
  {
   "cell_type": "markdown",
   "metadata": {},
   "source": [
    "# Testing accuracy on Testing data"
   ]
  },
  {
   "cell_type": "code",
   "execution_count": 105,
   "metadata": {
    "collapsed": false
   },
   "outputs": [
    {
     "name": "stdout",
     "output_type": "stream",
     "text": [
      "Accuracy Check  62.3036649215 %\n"
     ]
    }
   ],
   "source": [
    "\n",
    "\n",
    "prediction = clf.predict(test_x)\n",
    "decision[\"test_set\"]=accuracy_score(prediction,test_y)*100\n",
    "print 'Accuracy Check ',decision[\"test_set\"],'%'\n",
    "\n"
   ]
  },
  {
   "cell_type": "code",
   "execution_count": 106,
   "metadata": {
    "collapsed": false
   },
   "outputs": [
    {
     "data": {
      "text/plain": [
       "{'test_set': 62.303664921465973, 'trainig_set': 96.494023904382473}"
      ]
     },
     "execution_count": 106,
     "metadata": {},
     "output_type": "execute_result"
    }
   ],
   "source": [
    "decision"
   ]
  },
  {
   "cell_type": "markdown",
   "metadata": {},
   "source": [
    "# Neural Net classifier"
   ]
  },
  {
   "cell_type": "code",
   "execution_count": 108,
   "metadata": {
    "collapsed": false
   },
   "outputs": [],
   "source": [
    "from sklearn.neural_network import MLPClassifier"
   ]
  },
  {
   "cell_type": "code",
   "execution_count": 109,
   "metadata": {
    "collapsed": false
   },
   "outputs": [
    {
     "data": {
      "text/plain": [
       "MLPClassifier(activation='relu', algorithm='l-bfgs', alpha=1e-05,\n",
       "       batch_size=200, beta_1=0.9, beta_2=0.999, early_stopping=False,\n",
       "       epsilon=1e-08, hidden_layer_sizes=(50,), learning_rate='constant',\n",
       "       learning_rate_init=0.001, max_iter=200, momentum=0.9,\n",
       "       nesterovs_momentum=True, power_t=0.5, random_state=1, shuffle=True,\n",
       "       tol=0.0001, validation_fraction=0.1, verbose=False,\n",
       "       warm_start=False)"
      ]
     },
     "execution_count": 109,
     "metadata": {},
     "output_type": "execute_result"
    }
   ],
   "source": [
    "neural=dict()\n",
    "clf = MLPClassifier(algorithm='l-bfgs',hidden_layer_sizes=(50,), alpha=1e-5, random_state=1)\n",
    "clf"
   ]
  },
  {
   "cell_type": "code",
   "execution_count": 110,
   "metadata": {
    "collapsed": false
   },
   "outputs": [
    {
     "name": "stderr",
     "output_type": "stream",
     "text": [
      "/home/sudhanshu/anaconda2/lib/python2.7/site-packages/sklearn/neural_network/multilayer_perceptron.py:894: DataConversionWarning: A column-vector y was passed when a 1d array was expected. Please change the shape of y to (n_samples, ), for example using ravel().\n",
      "  y = column_or_1d(y, warn=True)\n"
     ]
    },
    {
     "data": {
      "text/plain": [
       "MLPClassifier(activation='relu', algorithm='l-bfgs', alpha=1e-05,\n",
       "       batch_size=200, beta_1=0.9, beta_2=0.999, early_stopping=False,\n",
       "       epsilon=1e-08, hidden_layer_sizes=(50,), learning_rate='constant',\n",
       "       learning_rate_init=0.001, max_iter=200, momentum=0.9,\n",
       "       nesterovs_momentum=True, power_t=0.5, random_state=1, shuffle=True,\n",
       "       tol=0.0001, validation_fraction=0.1, verbose=False,\n",
       "       warm_start=False)"
      ]
     },
     "execution_count": 110,
     "metadata": {},
     "output_type": "execute_result"
    }
   ],
   "source": [
    "#trainig Network\n",
    "clf.fit(train_x, train_y)"
   ]
  },
  {
   "cell_type": "markdown",
   "metadata": {},
   "source": [
    "# Testing accuracy on training data"
   ]
  },
  {
   "cell_type": "code",
   "execution_count": 112,
   "metadata": {
    "collapsed": false
   },
   "outputs": [
    {
     "name": "stdout",
     "output_type": "stream",
     "text": [
      "Accuracy Check  98.4860557769 %\n"
     ]
    }
   ],
   "source": [
    "#Now testing for trainig data\n",
    "#Now predict values for given classifier\n",
    "prediction = clf.predict(train_x)\n",
    "neural[\"trainig_set\"]=accuracy_score(prediction,train_y)*100\n",
    "print 'Accuracy Check ',neural[\"trainig_set\"],'%'"
   ]
  },
  {
   "cell_type": "markdown",
   "metadata": {},
   "source": [
    "# Testing accuracy on testing data"
   ]
  },
  {
   "cell_type": "code",
   "execution_count": 114,
   "metadata": {
    "collapsed": false
   },
   "outputs": [
    {
     "name": "stdout",
     "output_type": "stream",
     "text": [
      "Accuracy Check  71.7277486911 %\n"
     ]
    }
   ],
   "source": [
    "prediction = clf.predict(test_x)\n",
    "neural[\"test_set\"]=accuracy_score(prediction,test_y)*100\n",
    "print 'Accuracy Check ',neural[\"test_set\"],'%'"
   ]
  },
  {
   "cell_type": "markdown",
   "metadata": {},
   "source": [
    "# Plotting"
   ]
  },
  {
   "cell_type": "code",
   "execution_count": 121,
   "metadata": {
    "collapsed": true
   },
   "outputs": [],
   "source": [
    "import pylab as plt\n",
    "plt.rcParams['figure.figsize'] = 16, 12"
   ]
  },
  {
   "cell_type": "code",
   "execution_count": 122,
   "metadata": {
    "collapsed": false
   },
   "outputs": [
    {
     "data": {
      "image/png": "[encoded data removed]",
      "text/plain": [
       "<matplotlib.figure.Figure at 0x7f5b1687b690>"
      ]
     },
     "metadata": {},
     "output_type": "display_data"
    }
   ],
   "source": [
    "#%pylab inline\n",
    "classifier = [1,2,3]\n",
    "accuracy_test_data=[svm[\"test_set\"],decision[\"test_set\"],neural[\"test_set\"]]\n",
    "LABELS=[\"SVM\",\"Decision-Tree\",\"Neural-net\"]\n",
    "\n",
    "plt.bar(classifier,accuracy_test_data,align='center')\n",
    "plt.xticks(classifier, LABELS) #binding label with x axis data\n",
    "plt.xlabel('Classifier')\n",
    "plt.ylabel('Accuracy')\n",
    "plt.title('Analysis with 2 Class')\n",
    "plt.show()"
   ]
  },
  {
   "cell_type": "code",
   "execution_count": null,
   "metadata": {
    "collapsed": true
   },
   "outputs": [],
   "source": []
  }
 ],
 "metadata": {
  "kernelspec": {
   "display_name": "Python 2",
   "language": "python",
   "name": "python2"
  },
  "language_info": {
   "codemirror_mode": {
    "name": "ipython",
    "version": 2
   },
   "file_extension": ".py",
   "mimetype": "text/x-python",
   "name": "python",
   "nbconvert_exporter": "python",
   "pygments_lexer": "ipython2",
   "version": "2.7.11"
  }
 },
 "nbformat": 4,
 "nbformat_minor": 0
}
