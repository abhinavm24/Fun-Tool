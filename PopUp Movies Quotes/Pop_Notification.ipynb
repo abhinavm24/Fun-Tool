{
 "cells": [
  {
   "cell_type": "markdown",
   "metadata": {},
   "source": [
    "## Notification App\n",
    "<p>\n",
    "Add this program to startup program. It will will show you some Movies Quotes after Each 45 min.\n",
    "Even If you are offline (condition is that if there are few quotes alredy stored in Mongodb databse).\n"
   ]
  },
  {
   "cell_type": "markdown",
   "metadata": {},
   "source": [
    "##Application Name :Movies_Famous_Quotes\n",
    "__auther__=\"Sudhanshu Patel\""
   ]
  },
  {
   "cell_type": "code",
   "execution_count": 1,
   "metadata": {
    "collapsed": false
   },
   "outputs": [],
   "source": [
    "import ctypes  # An included library with Python install.\n",
    "from pymongo import MongoClient\n",
    "import pymongo\n",
    "import unirest\n",
    "import json\n",
    "import Tkinter, tkMessageBox\n",
    "from random import randint\n",
    "import time\n",
    "import winsound\n",
    "import pyttsx  #sound"
   ]
  },
  {
   "cell_type": "code",
   "execution_count": 2,
   "metadata": {
    "collapsed": false
   },
   "outputs": [],
   "source": [
    "#Configure Unirest\n",
    "unirest.timeout(8)"
   ]
  },
  {
   "cell_type": "markdown",
   "metadata": {},
   "source": [
    "<h3> https://market.mashape.com/andruxnet/random-famous-quotes"
   ]
  },
  {
   "cell_type": "markdown",
   "metadata": {},
   "source": [
    "## Storing To Database"
   ]
  },
  {
   "cell_type": "markdown",
   "metadata": {},
   "source": [
    "<h3> One Time Specification for uniqe quotes<br />\n",
    " Done this using Shell</h3>\n",
    " \n",
    "<ul>\n",
    "<li>open CMD</li>\n",
    "<li>mongo</li>\n",
    "<li>show db</li>\n",
    "<li>select Quote</li>\n",
    "<li>show collections</li>\n",
    "<li>db.movies.createIndex( { quote: 1 }, { unique: true, sparse: true } )</li>\n",
    "\n",
    "</ul>"
   ]
  },
  {
   "cell_type": "code",
   "execution_count": 36,
   "metadata": {
    "collapsed": true
   },
   "outputs": [],
   "source": [
    "class TheQuotes():\n",
    "    def __init__(self,):\n",
    "        \n",
    "        self.data=False\n",
    "        #Configure Voice\n",
    "        self.engine = pyttsx.init()\n",
    "        self.engine.setProperty('voice', u'HKEY_LOCAL_MACHINE\\\\SOFTWARE\\\\Microsoft\\\\Speech\\\\Voices\\\\Tokens\\\\TTS_MS_EN-GB_HAZEL_10.0')\n",
    "        self.rate = self.engine.getProperty('rate')\n",
    "        self.engine.setProperty('rate', self.rate+60) #regulate speed of speaking\n",
    "        \n",
    "        #configure GUI\n",
    "        self.root = Tkinter.Tk()\n",
    "        self.root.withdraw()\n",
    "        #databse\n",
    "        self.client=MongoClient()\n",
    "        self.db=self.client[\"Quote\"]\n",
    "    \n",
    "    def query(self):\n",
    "        \"Querying on server\"\n",
    "        try:\n",
    "            return json.loads(unirest.post(\"https://andruxnet-random-famous-quotes.p.mashape.com/?cat=movies\",\n",
    "                                headers={\n",
    "                    \"X-Mashape-Key\": \"4qbGQ73WKZmshpkmiExFtO3wlQsIp1ve1nOjsn0RQRy67VAlWg\",\n",
    "                    \"Content-Type\": \"application/x-www-form-urlencoded\",\n",
    "                    \"Accept\": \"application/json\"\n",
    "                }).raw_body)\n",
    "        except:\n",
    "            return False\n",
    "    def insert(self):\n",
    "        try:\n",
    "            self.db.movies.insert_one(self.data)\n",
    "        except:\n",
    "            print \"Error in insert\"\n",
    "    def draw(self):\n",
    "        #Popup & sound\n",
    "        #engine = pyttsx.init()\n",
    "        self.engine.say(self.data['quote']+'\\n-from '+self.data['author'])\n",
    "        tkMessageBox.showinfo(\"Time to RuN\", self.data['quote']+'\\n-from '+self.data['author'])\n",
    "        self.engine.runAndWait()\n",
    "    def slectFrom_DB(self):\n",
    "        \"select random from database\"\n",
    "        return self.db.movies.find().limit(-1).skip(randint(0,self.db.movies.count()-1)).next()\n",
    "        "
   ]
  },
  {
   "cell_type": "code",
   "execution_count": null,
   "metadata": {
    "collapsed": false
   },
   "outputs": [],
   "source": [
    "if __name__=='__main__':\n",
    "    ## Loop Work\n",
    "    obj=TheQuotes()\n",
    "    while True:\n",
    "        obj.data=obj.query()\n",
    "        if obj.data !=False:\n",
    "            obj.insert()\n",
    "        else:\n",
    "            obj.data=obj.slectFrom_DB()\n",
    "        winsound.PlaySound(\"SystemExit\", winsound.SND_ALIAS)\n",
    "        obj.draw()\n",
    "        obj.data=False\n",
    "        time.sleep(162000) #process repeate After Each 45 Min\n",
    "    "
   ]
  },
  {
   "cell_type": "code",
   "execution_count": null,
   "metadata": {
    "collapsed": true
   },
   "outputs": [],
   "source": []
  }
 ],
 "metadata": {
  "kernelspec": {
   "display_name": "Python 2",
   "language": "python",
   "name": "python2"
  },
  "language_info": {
   "codemirror_mode": {
    "name": "ipython",
    "version": 2
   },
   "file_extension": ".py",
   "mimetype": "text/x-python",
   "name": "python",
   "nbconvert_exporter": "python",
   "pygments_lexer": "ipython2",
   "version": "2.7.11"
  }
 },
 "nbformat": 4,
 "nbformat_minor": 0
}
