{
 "metadata": {
  "name": "",
  "signature": "sha256:53e9c7993b1a8d16f3842da2579de65e4efb6075ec0672338f97a4f9d397c9be"
 },
 "nbformat": 3,
 "nbformat_minor": 0,
 "worksheets": [
  {
   "cells": [
    {
     "cell_type": "heading",
     "level": 2,
     "metadata": {},
     "source": [
      "Extract Email from deleviry failure mail & remove it from database"
     ]
    },
    {
     "cell_type": "code",
     "collapsed": false,
     "input": [
      "import re\n",
      "import pprint,sys"
     ],
     "language": "python",
     "metadata": {},
     "outputs": [],
     "prompt_number": 14
    },
    {
     "cell_type": "code",
     "collapsed": false,
     "input": [
      "filename = \"email1\""
     ],
     "language": "python",
     "metadata": {},
     "outputs": [],
     "prompt_number": 2
    },
    {
     "cell_type": "code",
     "collapsed": false,
     "input": [
      "f=open(filename,'r')\n",
      "data=f.read()\n",
      "f.close()\n",
      "print len(data)\n"
     ],
     "language": "python",
     "metadata": {},
     "outputs": [
      {
       "output_type": "stream",
       "stream": "stdout",
       "text": [
        "74901\n"
       ]
      }
     ],
     "prompt_number": 3
    },
    {
     "cell_type": "code",
     "collapsed": false,
     "input": [
      "mailRegex = re.compile(r'([\\w.]+(@|\\(at\\))\\w+(\\.|\\(dot\\))((\\w){2,7}(\\.|\\(dot\\))(\\w){2,5}|(\\w){2,7}))')\n"
     ],
     "language": "python",
     "metadata": {},
     "outputs": [],
     "prompt_number": 4
    },
    {
     "cell_type": "code",
     "collapsed": false,
     "input": [
      "res=mailRegex.findall(data)\n",
      "print len(res),\"emails found\""
     ],
     "language": "python",
     "metadata": {},
     "outputs": [
      {
       "output_type": "stream",
       "stream": "stdout",
       "text": [
        "487 emails found\n"
       ]
      }
     ],
     "prompt_number": 10
    },
    {
     "cell_type": "code",
     "collapsed": false,
     "input": [
      "#Removing duplicates & extras\n",
      "ls=[]\n",
      "for email in res:\n",
      "    if email[0] != \"daemon@googlemail.com\" and email[0] != \"sharecoupans@gmail.com\":\n",
      "        if email[0] not in ls:\n",
      "            ls.append(email[0])\n",
      "print \"total email to remove \",len(ls)"
     ],
     "language": "python",
     "metadata": {},
     "outputs": [
      {
       "output_type": "stream",
       "stream": "stdout",
       "text": [
        "total email to remove  82\n"
       ]
      }
     ],
     "prompt_number": 11
    },
    {
     "cell_type": "code",
     "collapsed": false,
     "input": [
      "pprint.pprint(ls)"
     ],
     "language": "python",
     "metadata": {},
     "outputs": [
      {
       "output_type": "stream",
       "stream": "stdout",
       "text": [
        "['007pru@gmail.com',\n",
        " 'CAG3Hmb8Ysvb7QswrjNauKNfA_NasRC8YLg4Le86RYqknDOTS7w@mail.gmail.com',\n",
        " '007.apurv@gmail.com',\n",
        " '007bond.jatin@gmail.com',\n",
        " '100rbh100@gmail.com',\n",
        " '019.amit@gmail.com',\n",
        " '03vc96@gmail.com',\n",
        " '09691a04b1@gmail.com',\n",
        " '05keerthi.s@gmail.com',\n",
        " '00sahi@gmail.com',\n",
        " '1.jaygala@gmail.com',\n",
        " '007kravi@gmail.com',\n",
        " '004upadhyay@gmail.com',\n",
        " '070790vivek@gmail.com',\n",
        " '101tyagi@gmail.com',\n",
        " '07.kishan@gmail.com',\n",
        " '09mohit1994@gmail.com',\n",
        " '019ashka@gmail.com',\n",
        " '06sid1991@gmail.com',\n",
        " '01paresh01@gmail.com',\n",
        " '019mohit.kumar@gmail.com',\n",
        " '0dwivediashish0@gmail.com',\n",
        " '03.msahai03@gmail.com',\n",
        " '07jaisani@gmail.com',\n",
        " '04051995feb@gmail.com',\n",
        " '007nelsonrodrigues@gmail.com',\n",
        " '05midhun09@gmail.com',\n",
        " '050277sun@gmail.com',\n",
        " '02oodp14@gmail.com',\n",
        " '007rishabhjain@gmail.com',\n",
        " '07aakash03@gmail.com',\n",
        " '007samyakjain@gmail.com',\n",
        " '1012abhik@gmail.com',\n",
        " '09nasa10@gmail.com',\n",
        " '07aryan07@gmail.com',\n",
        " '1.anamika.singh@gmail.com',\n",
        " '0123.parvej@gmail.com',\n",
        " '0984.durgesh@gmail.com',\n",
        " '0marfernandes15@gmail.com',\n",
        " '0406.nishtha@gmail.com',\n",
        " '10.kashif@gmail.com',\n",
        " '0201shivank93@gmail.com',\n",
        " '07249512mkt@gmail.com',\n",
        " '021.paul@gmail.com',\n",
        " '0467nancy@gmail.com',\n",
        " '01prateekkanwal@gmail.com',\n",
        " '06abhaygupta@gmail.com',\n",
        " '028upasana820@gmail.com',\n",
        " '04pankajb@gmail.com',\n",
        " '0808nkm@gmail.com',\n",
        " '01.0100n.00@gmail.com',\n",
        " '01akash47@gmail.com',\n",
        " '1.vinay.rawat@gmail.com',\n",
        " '0abhinav@gmail.com',\n",
        " '010naveen@gmail.com',\n",
        " '07.aritra@gmail.com',\n",
        " '1.deepak.r@gmail.com',\n",
        " '007akshayjain@gmail.com',\n",
        " '07chaingang@gmail.com',\n",
        " '01.harshita@gmail.com',\n",
        " '050meenusharma@gmail.com',\n",
        " '02051996ravi@gmail.com',\n",
        " '007expo@gmail.com',\n",
        " '1.gurpreet@gmail.com',\n",
        " '007animator@gmail.com',\n",
        " '013ayush@gmail.com',\n",
        " '09augarunyadav@gmail.com',\n",
        " '007.rassel@gmail.com',\n",
        " '01010raj@gmail.com',\n",
        " '09anshul09@gmail.com',\n",
        " '00edy00@gmail.com',\n",
        " '007aru@gmail.com',\n",
        " '007prosenjit@gmail.com',\n",
        " '007yuvraj@gmail.com',\n",
        " '008dasrup12@gmail.com',\n",
        " '009basith@gmail.com',\n",
        " '007.sohit@gmail.com',\n",
        " '08.renuka.m@gmail.com',\n",
        " '07.harsh@gmail.com',\n",
        " '006hacker@gmail.com',\n",
        " '007mohan6@gmail.com',\n",
        " '007amanbansal@gmail.com']\n"
       ]
      }
     ],
     "prompt_number": 15
    },
    {
     "cell_type": "code",
     "collapsed": false,
     "input": [
      "print \"R you sure to remove\"\n",
      "check=raw_input(\"y/n\")\n",
      "if check=='n':\n",
      "    sys.exit()"
     ],
     "language": "python",
     "metadata": {},
     "outputs": [
      {
       "output_type": "stream",
       "stream": "stdout",
       "text": [
        "R you sure to remove\n"
       ]
      },
      {
       "name": "stdout",
       "output_type": "stream",
       "stream": "stdout",
       "text": [
        "y/ny\n"
       ]
      }
     ],
     "prompt_number": 16
    },
    {
     "cell_type": "heading",
     "level": 3,
     "metadata": {},
     "source": [
      "Removing from database"
     ]
    },
    {
     "cell_type": "code",
     "collapsed": false,
     "input": [
      "from pymongo import MongoClient"
     ],
     "language": "python",
     "metadata": {},
     "outputs": [],
     "prompt_number": 17
    },
    {
     "cell_type": "code",
     "collapsed": false,
     "input": [
      "client=MongoClient()\n",
      "\n",
      "db=client.Emaildb\n",
      "inidata=db.data.count()"
     ],
     "language": "python",
     "metadata": {},
     "outputs": [],
     "prompt_number": 21
    },
    {
     "cell_type": "code",
     "collapsed": false,
     "input": [
      "for email in ls:\n",
      "    try:\n",
      "        db.data.remove({\"email\" : email})\n",
      "    except:\n",
      "        print \"email not found\"\n"
     ],
     "language": "python",
     "metadata": {},
     "outputs": [],
     "prompt_number": 19
    },
    {
     "cell_type": "code",
     "collapsed": false,
     "input": [
      "print inidata-db.data.count(),\"Documents removed\""
     ],
     "language": "python",
     "metadata": {},
     "outputs": [
      {
       "output_type": "stream",
       "stream": "stdout",
       "text": [
        "0 Documents removed\n"
       ]
      }
     ],
     "prompt_number": 22
    },
    {
     "cell_type": "code",
     "collapsed": false,
     "input": [],
     "language": "python",
     "metadata": {},
     "outputs": []
    }
   ],
   "metadata": {}
  }
 ]
}