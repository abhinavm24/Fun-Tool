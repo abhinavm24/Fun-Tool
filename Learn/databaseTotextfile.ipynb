{
 "metadata": {
  "name": "",
  "signature": "sha256:433ff8f281352070203daa7a5e9af2204acfa27a61115e66a6502f597ffb92b8"
 },
 "nbformat": 3,
 "nbformat_minor": 0,
 "worksheets": [
  {
   "cells": [
    {
     "cell_type": "heading",
     "level": 2,
     "metadata": {},
     "source": [
      "Creating Email text file with group of 500"
     ]
    },
    {
     "cell_type": "code",
     "collapsed": false,
     "input": [
      "\n",
      "from pymongo import MongoClient\n",
      "import pymongo\n",
      "\n",
      "client = MongoClient()\n",
      "print client\n",
      "\n",
      "#select or create databse if not available automaticaly create\n",
      "db = client.Emaildb\n"
     ],
     "language": "python",
     "metadata": {},
     "outputs": [
      {
       "output_type": "stream",
       "stream": "stdout",
       "text": [
        "MongoClient('localhost', 27017)\n"
       ]
      }
     ],
     "prompt_number": 2
    },
    {
     "cell_type": "code",
     "collapsed": false,
     "input": [
      "db.data.count()"
     ],
     "language": "python",
     "metadata": {},
     "outputs": [
      {
       "metadata": {},
       "output_type": "pyout",
       "prompt_number": 3,
       "text": [
        "682197"
       ]
      }
     ],
     "prompt_number": 3
    },
    {
     "cell_type": "code",
     "collapsed": false,
     "input": [
      "res=db.data.find({},{'_id': 0,'email':1} )"
     ],
     "language": "python",
     "metadata": {},
     "outputs": [],
     "prompt_number": 4
    },
    {
     "cell_type": "code",
     "collapsed": false,
     "input": [
      "res.count()"
     ],
     "language": "python",
     "metadata": {},
     "outputs": [
      {
       "metadata": {},
       "output_type": "pyout",
       "prompt_number": 5,
       "text": [
        "682197"
       ]
      }
     ],
     "prompt_number": 5
    },
    {
     "cell_type": "code",
     "collapsed": false,
     "input": [
      "f=open('freecharge','w')\n",
      "count = 1\n",
      "data=''\n",
      "for record in res:\n",
      "    data=data+', '+record[\"email\"]\n",
      "    count +=1\n",
      "    if count %500 ==0:\n",
      "        count=1\n",
      "        f.write(data+'\\n\\n')\n",
      "        f.write(\"*\"*50+'\\n\\n')\n",
      "        data=''\n",
      "f.close()\n"
     ],
     "language": "python",
     "metadata": {},
     "outputs": [],
     "prompt_number": 6
    },
    {
     "cell_type": "code",
     "collapsed": false,
     "input": [
      "print \"Thank You\""
     ],
     "language": "python",
     "metadata": {},
     "outputs": [
      {
       "output_type": "stream",
       "stream": "stdout",
       "text": [
        "Thank You\n"
       ]
      }
     ],
     "prompt_number": 7
    },
    {
     "cell_type": "code",
     "collapsed": false,
     "input": [],
     "language": "python",
     "metadata": {},
     "outputs": []
    }
   ],
   "metadata": {}
  }
 ]
}