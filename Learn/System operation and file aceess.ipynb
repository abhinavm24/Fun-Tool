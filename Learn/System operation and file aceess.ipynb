{
 "metadata": {
  "name": "",
  "signature": "sha256:4293967f18a0bacce030ee383704dcd9260dd23e63a7f285dcbf3b843fb151f9"
 },
 "nbformat": 3,
 "nbformat_minor": 0,
 "worksheets": [
  {
   "cells": [
    {
     "cell_type": "code",
     "collapsed": false,
     "input": [
      "import os"
     ],
     "language": "python",
     "metadata": {},
     "outputs": [],
     "prompt_number": 1
    },
    {
     "cell_type": "heading",
     "level": 5,
     "metadata": {},
     "source": [
      "Create System independent path"
     ]
    },
    {
     "cell_type": "code",
     "collapsed": false,
     "input": [
      "os.path.join('usr', 'bin', 'spam')"
     ],
     "language": "python",
     "metadata": {},
     "outputs": [
      {
       "metadata": {},
       "output_type": "pyout",
       "prompt_number": 2,
       "text": [
        "'usr/bin/spam'"
       ]
      }
     ],
     "prompt_number": 2
    },
    {
     "cell_type": "code",
     "collapsed": false,
     "input": [
      "#The Current Working Directory\n",
      "os.getcwd()"
     ],
     "language": "python",
     "metadata": {},
     "outputs": [
      {
       "metadata": {},
       "output_type": "pyout",
       "prompt_number": 3,
       "text": [
        "'/home/sudhanshu/GitHub/Fun-Tool/Learn'"
       ]
      }
     ],
     "prompt_number": 3
    },
    {
     "cell_type": "code",
     "collapsed": false,
     "input": [
      "#Move to desktop\n",
      "os.chdir(os.path.join('/','home','sudhanshu','Desktop'))\n",
      "os.getcwd()"
     ],
     "language": "python",
     "metadata": {},
     "outputs": [
      {
       "metadata": {},
       "output_type": "pyout",
       "prompt_number": 14,
       "text": [
        "'/home/sudhanshu/Desktop'"
       ]
      }
     ],
     "prompt_number": 14
    },
    {
     "cell_type": "code",
     "collapsed": false,
     "input": [
      "#ABasolute path\n",
      "os.path.abspath('.')\n",
      "#return absolute path of current working directory becouse '.' specify current working directory"
     ],
     "language": "python",
     "metadata": {},
     "outputs": [
      {
       "metadata": {},
       "output_type": "pyout",
       "prompt_number": 5,
       "text": [
        "'/home/sudhanshu/GitHub/Fun-Tool/Learn'"
       ]
      }
     ],
     "prompt_number": 5
    },
    {
     "cell_type": "code",
     "collapsed": false,
     "input": [
      "os.path.abspath('../') #return absolute address of relative directory '../'"
     ],
     "language": "python",
     "metadata": {},
     "outputs": [
      {
       "metadata": {},
       "output_type": "pyout",
       "prompt_number": 7,
       "text": [
        "'/home/sudhanshu/GitHub/Fun-Tool'"
       ]
      }
     ],
     "prompt_number": 7
    },
    {
     "cell_type": "code",
     "collapsed": false,
     "input": [
      "#check given address is absolute or not\n",
      "print os.path.isabs('/home/sudhanshu/GitHub/Fun-Tool')\n",
      "print os.path.isabs('../')\n",
      "print os.path.isabs(os.path.abspath('../'))\n",
      "print os.path.isabs(os.getcwd())"
     ],
     "language": "python",
     "metadata": {},
     "outputs": [
      {
       "output_type": "stream",
       "stream": "stdout",
       "text": [
        "True\n",
        "False\n",
        "True\n",
        "True\n"
       ]
      }
     ],
     "prompt_number": 12
    },
    {
     "cell_type": "heading",
     "level": 3,
     "metadata": {},
     "source": [
      "Calculate Relative path with respect to some location\n"
     ]
    },
    {
     "cell_type": "code",
     "collapsed": false,
     "input": [
      "print os.path.relpath('/home/sudhanshu/', '/home/sudhanshu/GitHub/Fun-Tool')\n",
      "print os.path.relpath('/home/sudhanshu/GitHub/Fun-Tool','/home/sudhanshu/')"
     ],
     "language": "python",
     "metadata": {},
     "outputs": [
      {
       "output_type": "stream",
       "stream": "stdout",
       "text": [
        "../..\n",
        "GitHub/Fun-Tool\n"
       ]
      }
     ],
     "prompt_number": 15
    },
    {
     "cell_type": "heading",
     "level": 3,
     "metadata": {},
     "source": [
      "Calculation of basename & directory name"
     ]
    },
    {
     "cell_type": "code",
     "collapsed": false,
     "input": [
      "path = 'home/sudhanshu/GitHub/Fun-Tool/readme.md'\n",
      "print os.path.basename(path)\n",
      "print os.path.dirname(path)"
     ],
     "language": "python",
     "metadata": {},
     "outputs": [
      {
       "output_type": "stream",
       "stream": "stdout",
       "text": [
        "readme.md\n",
        "home/sudhanshu/GitHub/Fun-Tool\n"
       ]
      }
     ],
     "prompt_number": 16
    },
    {
     "cell_type": "markdown",
     "metadata": {},
     "source": [
      "<b><i>Using Split function</i></b>"
     ]
    },
    {
     "cell_type": "code",
     "collapsed": false,
     "input": [
      "print os.path.split(path)"
     ],
     "language": "python",
     "metadata": {},
     "outputs": [
      {
       "output_type": "stream",
       "stream": "stdout",
       "text": [
        "('home/sudhanshu/GitHub/Fun-Tool', 'readme.md')\n"
       ]
      }
     ],
     "prompt_number": 17
    },
    {
     "cell_type": "code",
     "collapsed": false,
     "input": [
      "#Split into each sublocation\n",
      "path.split(os.path.sep)"
     ],
     "language": "python",
     "metadata": {},
     "outputs": [
      {
       "metadata": {},
       "output_type": "pyout",
       "prompt_number": 19,
       "text": [
        "['home', 'sudhanshu', 'GitHub', 'Fun-Tool', 'readme.md']"
       ]
      }
     ],
     "prompt_number": 19
    },
    {
     "cell_type": "heading",
     "level": 3,
     "metadata": {},
     "source": [
      "Finding File Sizes and Folder Contents"
     ]
    },
    {
     "cell_type": "code",
     "collapsed": false,
     "input": [
      "#calculate size of a file\n",
      "path='/home/sudhanshu/Downloads/dropbox_2015.10.28_amd64.deb'\n",
      "print os.path.getsize(path)/float(1024),'KB'"
     ],
     "language": "python",
     "metadata": {},
     "outputs": [
      {
       "output_type": "stream",
       "stream": "stdout",
       "text": [
        "93.005859375 Bytes\n"
       ]
      }
     ],
     "prompt_number": 35
    },
    {
     "cell_type": "code",
     "collapsed": false,
     "input": [
      "#calculate size of a folder\n",
      "#first find all file inside that folder\n",
      "fileList=os.listdir('/home/sudhanshu/Downloads')\n",
      "print fileList\n",
      "print 'Sum of size of each file gives, size of folder'\n",
      "\n",
      "folderSize=0\n",
      "for filename in fileList:\n",
      "    folderSize+=os.path.getsize(os.path.join('/home/sudhanshu/Downloads/',filename))\n",
      "print 'folder Size of /home/sudhanshu/Downloads is:',float(folderSize)/(1024*1024),'MB'"
     ],
     "language": "python",
     "metadata": {},
     "outputs": [
      {
       "output_type": "stream",
       "stream": "stdout",
       "text": [
        "['PSO_meander-line.ppt', 'bic_pso.ppt', 'NIT Rourkela LOI Not Received List.xls', 'Convolution_schematic.gif', '.~lock.train.csv#', 'pandoc-1.15.2.1.zip', 'OT-2015-11-16.zip', 'weka-3-6-13.zip', 'wxWidgets-3.0.2.tar.bz2.part', 'kaggle-titanic-master.zip', 'PDlabReport 112cs0174 112cs0148.rar', 'dropbox_2015.10.28_amd64.deb', '11165137_784821094965513_524151771649833897_o.jpg', '12265909_604395499699834_708160517436415650_o.jpg', '5131-15894-1-PB.pdf', 'PDlabReport 112cs0174 112cs0148', '42556139.jpg', 'blue_wave_2478.zip.part', 'incompletereg171115.xlsx', 'plot_digits_classification_001.png', 'pandoc-1.15.2.zip', 'Improving the performance of particle swarm optimization using ad.pdf', 'pedersen08simplifying.pdf', '1254376720000_Implementation of Nature Inspired optmization Algorithm.pdf', 'install_flash_player_11_linux.x86_64.tar.gz', 'Formal-title-page-template.docx', '905840_362917503867819_2182411091696402596_o.jpg', 'Cyberoam_SSL_CA.pem', 'xampp-linux-x64-5.6.14-4-installer.run', 'mongoDB with Python_1.html', '12238476_1078621588814541_919913457300341135_o.jpg', 'final_year_Project-2015-11-17.zip']\n",
        "Sum of size of each file gives, size of folder\n",
        "folder Size of /home/sudhanshu/Downloads is: 341.223345757 MB\n"
       ]
      }
     ],
     "prompt_number": 2
    },
    {
     "cell_type": "heading",
     "level": 3,
     "metadata": {},
     "source": [
      "Checking Path Validity"
     ]
    },
    {
     "cell_type": "markdown",
     "metadata": {},
     "source": [
      "\n",
      "Calling <b>os.path.exists(path) </b>will return True if the file or folder referred\n",
      "to in the argument exists and will return False if it does not exist.\n",
      "<br/>\n",
      "Calling <b>os.path.isfile(path)</b> will return True if the path argument exists\n",
      "and is a file and will return False otherwise.\n",
      "<br />\n",
      "Calling <b>os.path.isdir(path)</b> will return True if the path argument exists\n",
      "and is a folder and will return False otherwise."
     ]
    },
    {
     "cell_type": "code",
     "collapsed": false,
     "input": [
      "print os.path.exists('/home/sudhanshu')\n",
      "print os.path.exists('/home/sudhanshu/Downloads/dropbox_2015.10.28_amd64.deb')"
     ],
     "language": "python",
     "metadata": {},
     "outputs": [
      {
       "output_type": "stream",
       "stream": "stdout",
       "text": [
        "True\n",
        "True\n"
       ]
      }
     ],
     "prompt_number": 9
    },
    {
     "cell_type": "code",
     "collapsed": false,
     "input": [
      "print os.path.isdir('/home/sudhanshu/Downloads/dropbox_2015.10.28_amd64.deb') # return false becouse its a file not directory\n",
      "print os.path.isdir('/home/sudhanshu/Downloads') "
     ],
     "language": "python",
     "metadata": {},
     "outputs": [
      {
       "output_type": "stream",
       "stream": "stdout",
       "text": [
        "False\n",
        "True\n"
       ]
      }
     ],
     "prompt_number": 11
    },
    {
     "cell_type": "code",
     "collapsed": false,
     "input": [
      "print os.path.isfile('/home/sudhanshu/Downloads/dropbox_2015.10.28_amd64.deb')\n",
      "print os.path.isfile('/home/sudhanshu/Downloads')\n"
     ],
     "language": "python",
     "metadata": {},
     "outputs": [
      {
       "output_type": "stream",
       "stream": "stdout",
       "text": [
        "True\n",
        "False\n"
       ]
      }
     ],
     "prompt_number": 12
    },
    {
     "cell_type": "heading",
     "level": 3,
     "metadata": {},
     "source": [
      "Read Text file"
     ]
    },
    {
     "cell_type": "code",
     "collapsed": false,
     "input": [
      "f = open('filename.extention','r')\n",
      "#read entire file at a time\n",
      "fileContent=f.read()\n",
      "#read each line\n",
      "lst=f.readlines()\n",
      "f.close()"
     ],
     "language": "python",
     "metadata": {},
     "outputs": []
    },
    {
     "cell_type": "heading",
     "level": 3,
     "metadata": {},
     "source": [
      "Saving Variables with the shelve Module"
     ]
    },
    {
     "cell_type": "markdown",
     "metadata": {},
     "source": [
      "The shelve module will let you add Save and Open\n",
      "features to your program. For example, if you ran a program and entered\n",
      "some configuration settings, you could save those settings to a shelf file and\n",
      "then have the program load them the next time it is run."
     ]
    },
    {
     "cell_type": "code",
     "collapsed": false,
     "input": [
      "import shelve"
     ],
     "language": "python",
     "metadata": {},
     "outputs": [],
     "prompt_number": 2
    },
    {
     "cell_type": "code",
     "collapsed": false,
     "input": [
      "#writing data\n",
      "shelfFile = shelve.open('mydata')\n",
      "cats = ['Zophie', 'kitty', 'Simon']\n",
      "cost=[34435,1332,3452]\n",
      "\n",
      "shelfFile['cats']=cats #Stores cat var in file\n",
      "shelfFile['cost']=cost\n",
      "shelfFile.close() #close file"
     ],
     "language": "python",
     "metadata": {},
     "outputs": [],
     "prompt_number": 13
    },
    {
     "cell_type": "code",
     "collapsed": false,
     "input": [
      "#reading data\n",
      "shelfFile = shelve.open('mydata')\n",
      "print type(shelfFile)\n",
      "print shelfFile['cats'] #read variables\n",
      "print shelfFile['cost']"
     ],
     "language": "python",
     "metadata": {},
     "outputs": [
      {
       "output_type": "stream",
       "stream": "stdout",
       "text": [
        "<type 'instance'>\n",
        "['Zophie', 'kitty', 'Simon']\n",
        "[34435, 1332, 3452]\n"
       ]
      }
     ],
     "prompt_number": 14
    },
    {
     "cell_type": "heading",
     "level": 4,
     "metadata": {},
     "source": [
      "Ckeck keys stored in shelfFile"
     ]
    },
    {
     "cell_type": "code",
     "collapsed": false,
     "input": [
      "#return keys\n",
      "print list(shelfFile.keys())\n",
      "#return values\n",
      "print list(shelfFile.values())"
     ],
     "language": "python",
     "metadata": {},
     "outputs": [
      {
       "output_type": "stream",
       "stream": "stdout",
       "text": [
        "['cats', 'cost']\n",
        "[['Zophie', 'kitty', 'Simon'], [34435, 1332, 3452]]\n"
       ]
      }
     ],
     "prompt_number": 17
    },
    {
     "cell_type": "heading",
     "level": 3,
     "metadata": {},
     "source": [
      "Saving Variables with the pprint.pformat() Function"
     ]
    },
    {
     "cell_type": "code",
     "collapsed": false,
     "input": [
      "import pprint\n",
      "#deals with json formate"
     ],
     "language": "python",
     "metadata": {},
     "outputs": [],
     "prompt_number": 19
    },
    {
     "cell_type": "code",
     "collapsed": false,
     "input": [
      "cats = [{'name': 'Zophie', 'desc': 'chubby'}, {'name': 'Pooka', 'desc': 'fluffy'}]\n",
      "pprint.pformat(cats)"
     ],
     "language": "python",
     "metadata": {},
     "outputs": [
      {
       "metadata": {},
       "output_type": "pyout",
       "prompt_number": 20,
       "text": [
        "\"[{'desc': 'chubby', 'name': 'Zophie'}, {'desc': 'fluffy', 'name': 'Pooka'}]\""
       ]
      }
     ],
     "prompt_number": 20
    },
    {
     "cell_type": "code",
     "collapsed": false,
     "input": [
      "#Writing data\n",
      "f = open('myCats.py', 'w')\n",
      "f.write('cats = ' + pprint.pformat(cats) + '\\n')\n",
      "#it simply create a python file\n",
      "f.close()"
     ],
     "language": "python",
     "metadata": {},
     "outputs": [],
     "prompt_number": 21
    },
    {
     "cell_type": "code",
     "collapsed": false,
     "input": [
      "# Now import Python file & use\n",
      "import myCats\n",
      "myCats.cats"
     ],
     "language": "python",
     "metadata": {},
     "outputs": [
      {
       "metadata": {},
       "output_type": "pyout",
       "prompt_number": 22,
       "text": [
        "[{'desc': 'chubby', 'name': 'Zophie'}, {'desc': 'fluffy', 'name': 'Pooka'}]"
       ]
      }
     ],
     "prompt_number": 22
    },
    {
     "cell_type": "code",
     "collapsed": false,
     "input": [],
     "language": "python",
     "metadata": {},
     "outputs": []
    }
   ],
   "metadata": {}
  }
 ]
}