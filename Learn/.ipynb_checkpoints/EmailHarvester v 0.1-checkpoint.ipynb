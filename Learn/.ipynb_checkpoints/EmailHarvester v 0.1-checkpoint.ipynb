{
 "metadata": {
  "name": "",
  "signature": "sha256:563f5b442f00d4a6dbaec1b412427171a77935281f1a3100360565c592efea27"
 },
 "nbformat": 3,
 "nbformat_minor": 0,
 "worksheets": [
  {
   "cells": [
    {
     "cell_type": "heading",
     "level": 4,
     "metadata": {},
     "source": [
      "write emails from text file to database"
     ]
    },
    {
     "cell_type": "code",
     "collapsed": false,
     "input": [
      "import pprint,sys\n",
      "import re\n",
      "from datetime import datetime"
     ],
     "language": "python",
     "metadata": {},
     "outputs": [],
     "prompt_number": 21
    },
    {
     "cell_type": "code",
     "collapsed": false,
     "input": [
      "#open file\n",
      "fl=open(\"csGeek\",'r')\n",
      "flData=fl.read()\n",
      "fl.close()"
     ],
     "language": "python",
     "metadata": {},
     "outputs": [],
     "prompt_number": 15
    },
    {
     "cell_type": "heading",
     "level": 4,
     "metadata": {},
     "source": [
      "Write now it uses direct exraction But we need to add reguler expression search for emails in text files"
     ]
    },
    {
     "cell_type": "code",
     "collapsed": false,
     "input": [
      "ls=flData.split(',\\n')"
     ],
     "language": "python",
     "metadata": {},
     "outputs": [],
     "prompt_number": 17
    },
    {
     "cell_type": "code",
     "collapsed": false,
     "input": [
      "#testing\n",
      "ls[:3]"
     ],
     "language": "python",
     "metadata": {},
     "outputs": [
      {
       "metadata": {},
       "output_type": "pyout",
       "prompt_number": 19,
       "text": [
        "['mohdnadeem94@gmail.com',\n",
        " 'mohideenashraf94@gmail.com',\n",
        " 'mohit.mae10@yahoo.com']"
       ]
      }
     ],
     "prompt_number": 19
    },
    {
     "cell_type": "code",
     "collapsed": false,
     "input": [
      "data=[]\n",
      "for email in ls:\n",
      "    temp=dict()\n",
      "    temp['email'] = email\n",
      "    temp['timestamp']=datetime.utcnow()\n",
      "    data.append(temp)\n",
      "\n",
      "pprint.pprint(data[:3])"
     ],
     "language": "python",
     "metadata": {},
     "outputs": [
      {
       "output_type": "stream",
       "stream": "stdout",
       "text": [
        "[{'email': 'mohdnadeem94@gmail.com',\n",
        "  'timestamp': datetime.datetime(2015, 12, 26, 6, 12, 2, 356908)},\n",
        " {'email': 'mohideenashraf94@gmail.com',\n",
        "  'timestamp': datetime.datetime(2015, 12, 26, 6, 12, 2, 356923)},\n",
        " {'email': 'mohit.mae10@yahoo.com',\n",
        "  'timestamp': datetime.datetime(2015, 12, 26, 6, 12, 2, 356928)}]\n"
       ]
      }
     ],
     "prompt_number": 24
    },
    {
     "cell_type": "code",
     "collapsed": false,
     "input": [
      "#checkPoint\n",
      "print 'Type, Y/y to continue Insertion & N/n  to exit:'\n",
      "checkpoint=raw_input()\n",
      "if checkpoint.lower() !='y':\n",
      "    print 'Bye Bye'\n",
      "    sys.exit()"
     ],
     "language": "python",
     "metadata": {},
     "outputs": [
      {
       "output_type": "stream",
       "stream": "stdout",
       "text": [
        "Type, Y/y to continue Insertion & N/n  to exit:\n"
       ]
      },
      {
       "name": "stdout",
       "output_type": "stream",
       "stream": "stdout",
       "text": [
        "y\n"
       ]
      }
     ],
     "prompt_number": 23
    },
    {
     "cell_type": "heading",
     "level": 2,
     "metadata": {},
     "source": [
      "Database insert or Update"
     ]
    },
    {
     "cell_type": "code",
     "collapsed": false,
     "input": [
      "from pymongo import MongoClient\n",
      "import pymongo\n",
      "\n",
      "client = MongoClient()\n",
      "print client\n",
      "\n",
      "#select or create databse if not available automaticaly create\n",
      "db = client.Emaildb"
     ],
     "language": "python",
     "metadata": {},
     "outputs": [
      {
       "output_type": "stream",
       "stream": "stdout",
       "text": [
        "MongoClient('localhost', 27017)\n"
       ]
      }
     ],
     "prompt_number": 25
    },
    {
     "cell_type": "code",
     "collapsed": false,
     "input": [
      "initialStatus=db.data.count() #before insertion\n",
      "print initialStatus"
     ],
     "language": "python",
     "metadata": {},
     "outputs": [
      {
       "output_type": "stream",
       "stream": "stdout",
       "text": [
        "681205\n"
       ]
      }
     ],
     "prompt_number": 27
    },
    {
     "cell_type": "code",
     "collapsed": false,
     "input": [
      "#here alise create huge issue becouse if match found it update the list so its create error in updating\n",
      "insertion=0\n",
      "updation=0\n",
      "for i in range(len(data)):\n",
      "    try:\n",
      "        db.data.insert(data[i])\n",
      "        insertion +=1\n",
      "    except pymongo.errors.DuplicateKeyError:\n",
      "        try:\n",
      "            del data[i]['_id']\n",
      "            db.data.update({'email':data[i]['email']},{\"$set\" : data[i]})\n",
      "            updation+=1\n",
      "        except:\n",
      "            print \"error during updation,\"\n",
      "            print data[i]\n",
      "            \n",
      "    except:\n",
      "        print \"error in,insertion\"\n",
      "        print data[i]\n",
      "print \"Insertion:\",insertion\n",
      "print \"updation:\",updation\n",
      "print \"New total No of Document\",db.data.count() \n",
      "print \"New document added :\",db.data.count() -initialStatus"
     ],
     "language": "python",
     "metadata": {},
     "outputs": [
      {
       "output_type": "stream",
       "stream": "stdout",
       "text": [
        "Insertion: 0\n",
        "updation: 1\n",
        "New total No of Document 681636\n",
        "New document added : 431\n"
       ]
      }
     ],
     "prompt_number": 57
    },
    {
     "cell_type": "code",
     "collapsed": false,
     "input": [
      "print 'Initial no of Documents =',initialStatus\n",
      "print 'Current no of documents =',db.data.count()\n",
      "print 'thank you'"
     ],
     "language": "python",
     "metadata": {},
     "outputs": [
      {
       "output_type": "stream",
       "stream": "stdout",
       "text": [
        "Initial no of Documents = 681205\n",
        "Current no of documents = 681636\n",
        "thank you\n"
       ]
      }
     ],
     "prompt_number": 62
    },
    {
     "cell_type": "code",
     "collapsed": false,
     "input": [],
     "language": "python",
     "metadata": {},
     "outputs": []
    }
   ],
   "metadata": {}
  }
 ]
}