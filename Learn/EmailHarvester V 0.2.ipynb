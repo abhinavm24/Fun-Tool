{
 "metadata": {
  "name": "",
  "signature": "sha256:5cffe582c13fc140e33410b60bda74a8ff265662eeaa037ebf38bb4bafd8cf2a"
 },
 "nbformat": 3,
 "nbformat_minor": 0,
 "worksheets": [
  {
   "cells": [
    {
     "cell_type": "heading",
     "level": 2,
     "metadata": {},
     "source": [
      "Extract information from excell file & insert to mongodb databse"
     ]
    },
    {
     "cell_type": "code",
     "collapsed": false,
     "input": [
      "import xlrd,sys\n",
      "import pprint\n",
      "from datetime import datetime"
     ],
     "language": "python",
     "metadata": {},
     "outputs": [],
     "prompt_number": 212
    },
    {
     "cell_type": "code",
     "collapsed": false,
     "input": [
      "filename= \"NIT Rourkela LOI Not Received List.xls\""
     ],
     "language": "python",
     "metadata": {},
     "outputs": [],
     "prompt_number": 2
    },
    {
     "cell_type": "code",
     "collapsed": false,
     "input": [
      "#open file\n",
      "xl_workbook = xlrd.open_workbook(filename)"
     ],
     "language": "python",
     "metadata": {},
     "outputs": [],
     "prompt_number": 4
    },
    {
     "cell_type": "code",
     "collapsed": false,
     "input": [
      "#sheet names\n",
      "sheet_names=xl_workbook.sheet_names()\n",
      "print \"sheet Names :\",sheet_names\n",
      "print \"Right now we gona deel with single sheet only\""
     ],
     "language": "python",
     "metadata": {},
     "outputs": [
      {
       "output_type": "stream",
       "stream": "stdout",
       "text": [
        "[u'Sheet1']\n"
       ]
      }
     ],
     "prompt_number": 5
    },
    {
     "cell_type": "code",
     "collapsed": false,
     "input": [
      "#select sheet\n",
      "workingSheet=xl_workbook.sheet_by_index(0)\n"
     ],
     "language": "python",
     "metadata": {},
     "outputs": [
      {
       "output_type": "stream",
       "stream": "stdout",
       "text": [
        "<xlrd.sheet.Sheet object at 0x7f3a9806aad0>\n"
       ]
      }
     ],
     "prompt_number": 7
    },
    {
     "cell_type": "code",
     "collapsed": false,
     "input": [
      "#extracting first row {it contain header}\n",
      "row=workingSheet.row(0)\n"
     ],
     "language": "python",
     "metadata": {},
     "outputs": [],
     "prompt_number": 199
    },
    {
     "cell_type": "code",
     "collapsed": false,
     "input": [
      "#selecting field of our need\n",
      "###\n",
      "# Standerd column names\n",
      "# u'name', u'email',u'gender',mobile,phone',College Name\n",
      "\n",
      "###\n",
      "slected_field=dict()\n",
      "for i in range(workingSheet.ncols):\n",
      "    if row[i].value.lower() == u'name':\n",
      "        slected_field[row[i].value.lower()] = i\n",
      "    elif row[i].value.lower() == u'email':\n",
      "        slected_field[row[i].value.lower()] = i\n",
      "    elif row[i].value.lower() == u'gender':\n",
      "        slected_field[row[i].value.lower()] = i\n",
      "    elif row[i].value.lower().find('mobile') != -1 or row[i].value.lower().find('phone') !=-1:\n",
      "        slected_field['phone'] = i\n",
      "    elif row[i].value == u'College Name':\n",
      "        slected_field['org'] = i\n",
      "\n",
      "print 'selected field for update'    \n",
      "pprint.pprint(slected_field)"
     ],
     "language": "python",
     "metadata": {},
     "outputs": [
      {
       "output_type": "stream",
       "stream": "stdout",
       "text": [
        "selected field for update\n",
        "{u'email': 6, u'gender': 3, u'name': 2, 'org': 8, 'phone': 4}\n"
       ]
      }
     ],
     "prompt_number": 200
    },
    {
     "cell_type": "code",
     "collapsed": false,
     "input": [
      "#create list of document to insert\n",
      "data=[]\n",
      "for row in range(1,workingSheet.nrows):\n",
      "    temp={}\n",
      "    for key in slected_field:\n",
      "        if key=='org':\n",
      "            if workingSheet.cell(row,slected_field[key]).value.find('NIT Rourkela') !=-1:\n",
      "                temp[key]='NITR'\n",
      "            else:\n",
      "                temp[key]=workingSheet.cell(row,slected_field[key]).value\n",
      "        if key=='phone':\n",
      "            temp[key]=int(workingSheet.cell(row,slected_field[key]).value)\n",
      "                \n",
      "        else:\n",
      "            temp[key]=workingSheet.cell(row,slected_field[key]).value\n",
      "        temp['timestamp']=datetime.utcnow()\n",
      "    data.append(temp)\n",
      "for i in range(3):\n",
      "    pprint.pprint(data[i])\n"
     ],
     "language": "python",
     "metadata": {},
     "outputs": [
      {
       "output_type": "stream",
       "stream": "stdout",
       "text": [
        "{u'email': u'aninditadey.1991@gmail.com',\n",
        " u'gender': u'Female',\n",
        " u'name': u'Anindita Dey',\n",
        " 'org': u'NIT Rourkela',\n",
        " 'phone': 8908548542,\n",
        " 'timestamp': datetime.datetime(2015, 12, 25, 21, 29, 8, 42264)}\n",
        "{u'email': u'jobinkjosephjkj@gmail.com',\n",
        " u'gender': u'Male',\n",
        " u'name': u'Jobin K Joseph',\n",
        " 'org': u'NIT Rourkela',\n",
        " 'phone': 8984243132,\n",
        " 'timestamp': datetime.datetime(2015, 12, 25, 21, 29, 8, 42312)}\n",
        "{u'email': u'swapnasrita@gmail.com',\n",
        " u'gender': u'Female',\n",
        " u'name': u'Sangita Swapnasrita',\n",
        " 'org': u'NIT Rourkela',\n",
        " 'phone': 8895111433,\n",
        " 'timestamp': datetime.datetime(2015, 12, 25, 21, 29, 8, 42366)}\n",
        "{u'email': u'ashutosh.maharana1@gmail.com',\n",
        " u'gender': u'Male',\n",
        " u'name': u'Ashutosh Maharana',\n",
        " 'org': u'NIT Rourkela',\n",
        " 'phone': 9438830271,\n",
        " 'timestamp': datetime.datetime(2015, 12, 25, 21, 29, 8, 42412)}\n",
        "{u'email': u'dinesdwivedi@gmail.com',\n",
        " u'gender': u'Male',\n",
        " u'name': u'Dines Dwivedi',\n",
        " 'org': u'NIT Rourkela',\n",
        " 'phone': 8895830382,\n",
        " 'timestamp': datetime.datetime(2015, 12, 25, 21, 29, 8, 42458)}\n"
       ]
      }
     ],
     "prompt_number": 202
    },
    {
     "cell_type": "code",
     "collapsed": false,
     "input": [
      "print 'Type, Y/y to continue Insertion & N/n  to exit:'\n",
      "checkpoint=raw_input()\n",
      "if checkpoint.lower() !='y':\n",
      "    print 'Bye Bye'\n",
      "    sys.exit()"
     ],
     "language": "python",
     "metadata": {},
     "outputs": [
      {
       "output_type": "stream",
       "stream": "stdout",
       "text": [
        "Type, Y/y to continue Insertion & N/n  to exit:\n"
       ]
      },
      {
       "name": "stdout",
       "output_type": "stream",
       "stream": "stdout",
       "text": [
        "n\n"
       ]
      },
      {
       "output_type": "stream",
       "stream": "stdout",
       "text": [
        "Bye Bye\n"
       ]
      },
      {
       "ename": "SystemExit",
       "evalue": "",
       "output_type": "pyerr",
       "traceback": [
        "An exception has occurred, use %tb to see the full traceback.\n",
        "\u001b[0;31mSystemExit\u001b[0m\n"
       ]
      },
      {
       "output_type": "stream",
       "stream": "stderr",
       "text": [
        "To exit: use 'exit', 'quit', or Ctrl-D.\n"
       ]
      }
     ],
     "prompt_number": 214
    },
    {
     "cell_type": "heading",
     "level": 3,
     "metadata": {},
     "source": [
      "Database Insertion Updation\n"
     ]
    },
    {
     "cell_type": "code",
     "collapsed": false,
     "input": [
      "\n",
      "from pymongo import MongoClient\n",
      "import pymongo\n",
      "\n",
      "client = MongoClient()\n",
      "print client\n",
      "\n",
      "#select or create databse if not available automaticaly create\n",
      "db = client.Emaildb\n"
     ],
     "language": "python",
     "metadata": {},
     "outputs": [
      {
       "output_type": "stream",
       "stream": "stdout",
       "text": [
        "MongoClient('localhost', 27017)\n"
       ]
      }
     ],
     "prompt_number": 82
    },
    {
     "cell_type": "code",
     "collapsed": false,
     "input": [
      "initialStatus=db.data.count() #before insertion"
     ],
     "language": "python",
     "metadata": {},
     "outputs": [],
     "prompt_number": 84
    },
    {
     "cell_type": "code",
     "collapsed": false,
     "input": [
      "#here alise create huge issue becouse if match found it update the list so its create error in updating\n",
      "insertion=0\n",
      "updation=0\n",
      "for i in range(len(data)):\n",
      "    try:\n",
      "        db.data.insert(data[i])\n",
      "        insertion +=1\n",
      "    except pymongo.errors.DuplicateKeyError:\n",
      "        try:\n",
      "            del data[i]['_id']\n",
      "            db.data.update({'email':data[i]['email']},{\"$set\" : data[i]})\n",
      "            updation+=1\n",
      "            print \"applied update\"\n",
      "        except:\n",
      "            print \"error during updation,\"\n",
      "            print dcopy[i]\n",
      "            \n",
      "    except:\n",
      "        print \"error in,insertion\"\n",
      "        print data[i]\n",
      "print \"Insertion:\",insertion\n",
      "print \"updation:\",updation\n",
      "print \"New total No of Document\",db.data.count() \n",
      "print \"New document added :\",db.data.count() -initialStatus"
     ],
     "language": "python",
     "metadata": {},
     "outputs": [
      {
       "output_type": "stream",
       "stream": "stdout",
       "text": [
        "applied update\n",
        "applied update\n",
        "applied update\n",
        "applied update\n",
        "applied update\n",
        "applied update\n",
        "applied update\n",
        "applied update\n",
        "applied update\n",
        "applied update\n",
        "applied update\n",
        "applied update\n",
        "applied update\n",
        "applied update\n",
        "applied update\n",
        "Insertion: 0\n",
        "updation: 15\n",
        "New total No of Document 681204\n",
        "New document added : 13\n"
       ]
      }
     ],
     "prompt_number": 205
    },
    {
     "cell_type": "code",
     "collapsed": false,
     "input": [
      "#pprint.pprint(db.data.find_one({'email':data[14]['email']}))\n"
     ],
     "language": "python",
     "metadata": {},
     "outputs": [],
     "prompt_number": 206
    },
    {
     "cell_type": "code",
     "collapsed": false,
     "input": [
      "print 'Current no of documents =',db.data.count()\n",
      "print 'Initial state was',initialStatus,' Documents'\n",
      "print 'thank you'"
     ],
     "language": "python",
     "metadata": {},
     "outputs": [
      {
       "output_type": "stream",
       "stream": "stdout",
       "text": [
        "Current no of documents = 681205\n",
        "Initial state was 681191  Documents\n",
        "thank you\n"
       ]
      }
     ],
     "prompt_number": 215
    },
    {
     "cell_type": "code",
     "collapsed": false,
     "input": [],
     "language": "python",
     "metadata": {},
     "outputs": []
    }
   ],
   "metadata": {}
  }
 ]
}