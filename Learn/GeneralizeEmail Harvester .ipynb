{
 "metadata": {
  "name": "",
  "signature": "sha256:8b98de6512b271161c9ebcff6f8720f3669a39bdbcb65d5b8e794ff65a6286a5"
 },
 "nbformat": 3,
 "nbformat_minor": 0,
 "worksheets": [
  {
   "cells": [
    {
     "cell_type": "heading",
     "level": 1,
     "metadata": {},
     "source": [
      "Generalis Emails Harvester, from files"
     ]
    },
    {
     "cell_type": "heading",
     "level": 4,
     "metadata": {},
     "source": [
      "Using Regular Expression"
     ]
    },
    {
     "cell_type": "code",
     "collapsed": false,
     "input": [
      "import re"
     ],
     "language": "python",
     "metadata": {},
     "outputs": [],
     "prompt_number": 1
    },
    {
     "cell_type": "code",
     "collapsed": false,
     "input": [
      "filename=raw_input(\"Enter file Name to extract emails : \")"
     ],
     "language": "python",
     "metadata": {},
     "outputs": [
      {
       "name": "stdout",
       "output_type": "stream",
       "stream": "stdout",
       "text": [
        "Enter file Name to extract emails : 11-April.html\n"
       ]
      }
     ],
     "prompt_number": 108
    },
    {
     "cell_type": "code",
     "collapsed": false,
     "input": [
      "#reading experiment file\n",
      "f=open(filename,'r')\n",
      "data=f.read()\n",
      "f.close()\n",
      "print len(data)"
     ],
     "language": "python",
     "metadata": {},
     "outputs": [
      {
       "output_type": "stream",
       "stream": "stdout",
       "text": [
        "28991414\n"
       ]
      }
     ],
     "prompt_number": 2
    },
    {
     "cell_type": "code",
     "collapsed": false,
     "input": [
      "mailRegex = re.compile(r'([\\w.]+(@|\\(at\\))\\w+(\\.|\\(dot\\))((\\w){2,7}(\\.|\\(dot\\))(\\w){2,5}|(\\w){2,7}))')\n",
      "\n",
      "# \"\" [\\w.]+ \"\" more than one alphanumaric, underscore or dot\n",
      "# \"\" (@|\\(at\\)) \"\" either one of @ or (at)\n",
      "# \"\" \\w+(\\.|\\(dot\\)) \"\" any numner of alphanumeric enad with \".\" or (dot)\n",
      "# \"\" ((\\w){2,7}(\\.|\\(dot\\))(\\w){2,5}|(\\w){2,7}) \"\",pipeline for selecting email of type pqr@gmail.com or xyz@nitrkl.ac.in"
     ],
     "language": "python",
     "metadata": {},
     "outputs": [],
     "prompt_number": 116
    },
    {
     "cell_type": "code",
     "collapsed": false,
     "input": [
      "res=mailRegex.findall(data)"
     ],
     "language": "python",
     "metadata": {},
     "outputs": [],
     "prompt_number": 117
    },
    {
     "cell_type": "code",
     "collapsed": false,
     "input": [
      "#copying email in list\n",
      "emails=[x[0] for x in res]\n",
      "del res\n",
      "print 'total, email',len(emails)\n",
      "emails[6:12]"
     ],
     "language": "python",
     "metadata": {},
     "outputs": [
      {
       "output_type": "stream",
       "stream": "stdout",
       "text": [
        "total, email 174784\n"
       ]
      },
      {
       "metadata": {},
       "output_type": "pyout",
       "prompt_number": 118,
       "text": [
        "['anirudhakr007(at)gmail(dot)com',\n",
        " 'advqos(at)trai(dot)gov(dot)in',\n",
        " 'pg_rajkot(at)bsnl(dot)co.in',\n",
        " 'agupta.virgo(at)gmail(dot)com',\n",
        " 'advqos(at)trai(dot)gov(dot)in',\n",
        " 'megaanshulgupta96(at)gmail(dot)com']"
       ]
      }
     ],
     "prompt_number": 118
    },
    {
     "cell_type": "code",
     "collapsed": false,
     "input": [
      "#replacing all (at) by @ and (dot) by '.'\n",
      "\n",
      "replaceDot = re.compile(r'\\(dot\\)')\n",
      "replaceAt = re.compile(r'\\(at\\)')\n",
      "\n",
      "for i in range(len(emails)):\n",
      "    emails[i] = replaceDot.sub('.',emails[i])\n",
      "    emails[i] = replaceAt.sub('@',emails[i])\n"
     ],
     "language": "python",
     "metadata": {},
     "outputs": [],
     "prompt_number": 119
    },
    {
     "cell_type": "code",
     "collapsed": false,
     "input": [
      "print emails[1:12]"
     ],
     "language": "python",
     "metadata": {},
     "outputs": [
      {
       "output_type": "stream",
       "stream": "stdout",
       "text": [
        "['advqos@trai.gov.in', 'akrathi9945@gmail.com', 'advqos@trai.gov.in', 'praveenphotog@gmail.com', 'advqos@trai.gov.in', 'anirudhakr007@gmail.com', 'advqos@trai.gov.in', 'pg_rajkot@bsnl.co.in', 'agupta.virgo@gmail.com', 'advqos@trai.gov.in', 'megaanshulgupta96@gmail.com']\n"
       ]
      }
     ],
     "prompt_number": 121
    },
    {
     "cell_type": "code",
     "collapsed": false,
     "input": [],
     "language": "python",
     "metadata": {},
     "outputs": []
    }
   ],
   "metadata": {}
  }
 ]
}